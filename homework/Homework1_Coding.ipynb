{
 "cells": [
  {
   "cell_type": "markdown",
   "metadata": {},
   "source": [
    "# Counting inversions in an array"
   ]
  },
  {
   "cell_type": "markdown",
   "metadata": {},
   "source": [
    "Merge_Sort_Count will be the main backbone of the code"
   ]
  },
  {
   "cell_type": "markdown",
   "metadata": {},
   "source": [
    "### Input "
   ]
  },
  {
   "cell_type": "code",
   "execution_count": 1,
   "metadata": {
    "collapsed": false
   },
   "outputs": [],
   "source": [
    "import numpy as np"
   ]
  },
  {
   "cell_type": "code",
   "execution_count": 2,
   "metadata": {
    "collapsed": false
   },
   "outputs": [
    {
     "name": "stdout",
     "output_type": "stream",
     "text": [
      "Homework1_Coding.ipynb input.txt              programming_hw1.png\r\n"
     ]
    }
   ],
   "source": [
    "!ls"
   ]
  },
  {
   "cell_type": "code",
   "execution_count": 43,
   "metadata": {
    "collapsed": true
   },
   "outputs": [],
   "source": [
    "df = np.loadtxt('input.txt')\n",
    "alist = [54,26,93,17,77,31,44,55,20]"
   ]
  },
  {
   "cell_type": "code",
   "execution_count": 12,
   "metadata": {
    "collapsed": false
   },
   "outputs": [
    {
     "data": {
      "text/plain": [
       "(100000,)"
      ]
     },
     "execution_count": 12,
     "metadata": {},
     "output_type": "execute_result"
    }
   ],
   "source": [
    "df.shape # (100000, )"
   ]
  },
  {
   "cell_type": "code",
   "execution_count": 14,
   "metadata": {
    "collapsed": false
   },
   "outputs": [
    {
     "data": {
      "text/plain": [
       "numpy.ndarray"
      ]
     },
     "execution_count": 14,
     "metadata": {},
     "output_type": "execute_result"
    }
   ],
   "source": [
    "type(df) # np.ndarray "
   ]
  },
  {
   "cell_type": "code",
   "execution_count": 16,
   "metadata": {
    "collapsed": false
   },
   "outputs": [
    {
     "data": {
      "text/plain": [
       "50000"
      ]
     },
     "execution_count": 16,
     "metadata": {},
     "output_type": "execute_result"
    }
   ],
   "source": [
    "len(df)//2"
   ]
  },
  {
   "cell_type": "code",
   "execution_count": 3,
   "metadata": {
    "collapsed": false
   },
   "outputs": [
    {
     "data": {
      "text/plain": [
       "array([ 54044.,  14108.,  79294., ...,  74018.,  71187.,  91901.])"
      ]
     },
     "execution_count": 3,
     "metadata": {},
     "output_type": "execute_result"
    }
   ],
   "source": [
    "df"
   ]
  },
  {
   "cell_type": "code",
   "execution_count": 20,
   "metadata": {
    "collapsed": false
   },
   "outputs": [
    {
     "data": {
      "text/plain": [
       "50000"
      ]
     },
     "execution_count": 20,
     "metadata": {},
     "output_type": "execute_result"
    }
   ],
   "source": [
    "len(df[:50000])"
   ]
  },
  {
   "cell_type": "code",
   "execution_count": 21,
   "metadata": {
    "collapsed": false
   },
   "outputs": [
    {
     "data": {
      "text/plain": [
       "50000"
      ]
     },
     "execution_count": 21,
     "metadata": {},
     "output_type": "execute_result"
    }
   ],
   "source": [
    "len(df[50000:])"
   ]
  },
  {
   "cell_type": "code",
   "execution_count": 23,
   "metadata": {
    "collapsed": false
   },
   "outputs": [
    {
     "ename": "TypeError",
     "evalue": "object of type 'numpy.float64' has no len()",
     "output_type": "error",
     "traceback": [
      "\u001b[0;31m---------------------------------------------------------------------------\u001b[0m",
      "\u001b[0;31mTypeError\u001b[0m                                 Traceback (most recent call last)",
      "\u001b[0;32m<ipython-input-23-9b92ca2ecf3a>\u001b[0m in \u001b[0;36m<module>\u001b[0;34m()\u001b[0m\n\u001b[0;32m----> 1\u001b[0;31m \u001b[0mlen\u001b[0m\u001b[0;34m(\u001b[0m\u001b[0mdf\u001b[0m\u001b[0;34m[\u001b[0m\u001b[0;36m1\u001b[0m\u001b[0;34m]\u001b[0m\u001b[0;34m)\u001b[0m\u001b[0;34m\u001b[0m\u001b[0m\n\u001b[0m",
      "\u001b[0;31mTypeError\u001b[0m: object of type 'numpy.float64' has no len()"
     ]
    }
   ],
   "source": []
  },
  {
   "cell_type": "markdown",
   "metadata": {
    "collapsed": true
   },
   "source": [
    "### Merge Sort"
   ]
  },
  {
   "cell_type": "code",
   "execution_count": 36,
   "metadata": {
    "collapsed": false
   },
   "outputs": [],
   "source": [
    "##############################################################\n",
    "# ------------ Task 1: Merge Sort Algorithm -----------------#\n",
    "##############################################################\n",
    "# To make sure memory is constant in time\n",
    "\n",
    "\n",
    "def merge_sort(in_array):\n",
    "    '''\n",
    "    Input: An array of integers\n",
    "    Output: Sorted array of integers\n",
    "    Description: \n",
    "    The following algorithm implements the merge sort algorithm as a divide and conquer \n",
    "    algo\n",
    "    '''\n",
    "    print(\"Splitting \",in_array)\n",
    "    # Base Case\n",
    "    if len(in_array) == 1:\n",
    "        print('Hitting Base Case')\n",
    "        return(in_array)\n",
    "    # Main Code\n",
    "    elif len(in_array) > 1:\n",
    "        # ----- Merge Sort Implementation -------#\n",
    "        # Determine the midpoint\n",
    "        mid = len(in_array)//2 \n",
    "        left_array = in_array[:mid]\n",
    "        right_array = in_array[mid:]\n",
    "        print('Starting to sort left')\n",
    "        left_sorted = merge_sort(left_array)\n",
    "        print('Starting to sort right' )\n",
    "        right_sorted = merge_sort(right_array)\n",
    "        \n",
    "        # Invoking the helper function\n",
    "        #sorted_array = merge(left_sorted, right_sorted)\n",
    "        #merge(left_sorted, right_sorted)\n",
    "        # return sorted array\n",
    "        #return(sorted_array)\n",
    "    \n",
    "        # parameters\n",
    "        i = 0 # Counter for elements in the left array\n",
    "        j = 0 # Counter for elements in the right array\n",
    "        k = 0 # Counter for the sorted array\n",
    "        #size = len(left_sorted) + len(right_sorted)\n",
    "        #sorted_array = np.empty(size, dtype = int) # Initializing the sorted array\n",
    "        print('Merging', left_sorted, ' and ', right_sorted )\n",
    "        # Case 1\n",
    "        while((i < len(left_sorted)) and j < len(right_sorted)):\n",
    "            if(left_sorted[i] <= right_sorted[j]):\n",
    "                in_array[k] = left_sorted[i]\n",
    "                i = i + 1\n",
    "                k = k + 1\n",
    "            else:\n",
    "                in_array[k] = right_sorted[j]\n",
    "                j = j + 1\n",
    "                k = k + 1\n",
    "            \n",
    "        # Case 2\n",
    "        while(i < len(left_sorted)):\n",
    "            in_array[k] = left_sorted[i]\n",
    "            i = i + 1\n",
    "            k = k + 1\n",
    "        \n",
    "        # Case 3\n",
    "        while(j < len(right_sorted)):\n",
    "            in_array[k] = right_sorted[j]\n",
    "            j = j + 1\n",
    "            k = k + 1\n",
    "        return(in_array)\n",
    "    else: \n",
    "        #print('Error')\n",
    "        return\n",
    "\n",
    "\n",
    "    "
   ]
  },
  {
   "cell_type": "code",
   "execution_count": 9,
   "metadata": {
    "collapsed": true
   },
   "outputs": [],
   "source": [
    "def merge(left, right):\n",
    "    '''\n",
    "    Input: 2 sorted arrays of integers\n",
    "    Output: A single Sorted array of integers\n",
    "    Description: \n",
    "    The following function implements a helper function\n",
    "    for the merge sort algorithm as a divide and conquer \n",
    "    algo\n",
    "    '''\n",
    "    # parameters\n",
    "    i = 0 # Counter for elements in the left array\n",
    "    j = 0 # Counter for elements in the right array\n",
    "    k = 0 # Counter for the sorted array\n",
    "    size = len(left) + len(right)\n",
    "    sorted_array = np.empty(size, dtype = int) # Initializing the sorted array\n",
    "    \n",
    "    # Case 1\n",
    "    while((i < len(left)) and j < len(right)):\n",
    "        if(left[i] <= right[j]):\n",
    "            sorted_array[k] = left[i]\n",
    "            i = i + 1\n",
    "            k = k + 1\n",
    "        else:\n",
    "            sorted_array[k] = right[j]\n",
    "            j = j + 1\n",
    "            k = k + 1\n",
    "            \n",
    "    # Case 2\n",
    "    while(i < len(left)):\n",
    "        sorted_array[k] = left[i]\n",
    "        i = i + 1\n",
    "        k = k + 1\n",
    "        \n",
    "    # Case 3\n",
    "    while(j < len(right)):\n",
    "        sorted_array[k] = right[j]\n",
    "        j = j + 1\n",
    "        k = k + 1\n",
    "    \n",
    "    # return sorted array\n",
    "    #return(sorted_array)"
   ]
  },
  {
   "cell_type": "code",
   "execution_count": 44,
   "metadata": {
    "collapsed": false
   },
   "outputs": [
    {
     "name": "stdout",
     "output_type": "stream",
     "text": [
      "Splitting  [54, 26, 93, 17, 77, 31, 44, 55, 20]\n",
      "Starting to sort left\n",
      "Splitting  [54, 26, 93, 17]\n",
      "Starting to sort left\n",
      "Splitting  [54, 26]\n",
      "Starting to sort left\n",
      "Splitting  [54]\n",
      "Hitting Base Case\n",
      "Starting to sort right\n",
      "Splitting  [26]\n",
      "Hitting Base Case\n",
      "Merging [54]  and  [26]\n",
      "Starting to sort right\n",
      "Splitting  [93, 17]\n",
      "Starting to sort left\n",
      "Splitting  [93]\n",
      "Hitting Base Case\n",
      "Starting to sort right\n",
      "Splitting  [17]\n",
      "Hitting Base Case\n",
      "Merging [93]  and  [17]\n",
      "Merging [26, 54]  and  [17, 93]\n",
      "Starting to sort right\n",
      "Splitting  [77, 31, 44, 55, 20]\n",
      "Starting to sort left\n",
      "Splitting  [77, 31]\n",
      "Starting to sort left\n",
      "Splitting  [77]\n",
      "Hitting Base Case\n",
      "Starting to sort right\n",
      "Splitting  [31]\n",
      "Hitting Base Case\n",
      "Merging [77]  and  [31]\n",
      "Starting to sort right\n",
      "Splitting  [44, 55, 20]\n",
      "Starting to sort left\n",
      "Splitting  [44]\n",
      "Hitting Base Case\n",
      "Starting to sort right\n",
      "Splitting  [55, 20]\n",
      "Starting to sort left\n",
      "Splitting  [55]\n",
      "Hitting Base Case\n",
      "Starting to sort right\n",
      "Splitting  [20]\n",
      "Hitting Base Case\n",
      "Merging [55]  and  [20]\n",
      "Merging [44]  and  [20, 55]\n",
      "Merging [31, 77]  and  [20, 44, 55]\n",
      "Merging [17, 26, 54, 93]  and  [20, 31, 44, 55, 77]\n"
     ]
    },
    {
     "data": {
      "text/plain": [
       "[17, 20, 26, 31, 44, 54, 55, 77, 93]"
      ]
     },
     "execution_count": 44,
     "metadata": {},
     "output_type": "execute_result"
    }
   ],
   "source": [
    "tmp2 = merge_sort(alist)\n",
    "tmp2"
   ]
  },
  {
   "cell_type": "code",
   "execution_count": 46,
   "metadata": {
    "collapsed": false
   },
   "outputs": [
    {
     "data": {
      "text/plain": [
       "array([  2995.,   2995.,   2995.,   2995.,   2995.,   2995.,   2995.,\n",
       "         9083.,   9083.,   9083.,  16122.,  90436.,   4615.,  40660.,\n",
       "        25675.,  58943.,  92904.,   9900.,  95588.,  46120.,  29390.,\n",
       "        91323.,  85363.,  45738.,  80717.,  57415.,   7637.,   8540.,\n",
       "         6336.,  45434.,  65895.,  61811.,   8959.,   9139.,  31027.,\n",
       "        87662.,   2484.,  65550.,  23260.,  15616.,   3490.,  49568.,\n",
       "         5979.,  44737.,  52808.,  72122.,  37957.,  34826.,  21419.,\n",
       "        73531.,  94323.,  52910.,  84496.,  71799.,  50162.,   1692.,\n",
       "         1565.,  59279.,  56864.,  20141.,  13893.,  63942.,   6055.,\n",
       "        33424.,  44771.,  25678.,  33639.,  27793.,  41268.,   1857.,\n",
       "        63388.,  32976.,  46195.,  61291.,  61740.,  61680.,  45264.,\n",
       "        76361.,  49243.,  73250.,  67432.,  29124.,  15198.,  30626.,\n",
       "        18950.,  13857.,  32569.,  45179.,  47696.,  21283.,  77169.,\n",
       "        26357.,  97885.,  54741.,  57246.,  61929.,  25997.,  45859.,\n",
       "         3353.,  32204.])"
      ]
     },
     "execution_count": 46,
     "metadata": {},
     "output_type": "execute_result"
    }
   ],
   "source": [
    "df[:100]"
   ]
  },
  {
   "cell_type": "code",
   "execution_count": 45,
   "metadata": {
    "collapsed": false,
    "scrolled": false
   },
   "outputs": [
    {
     "name": "stdout",
     "output_type": "stream",
     "text": [
      "Splitting  [ 54044.  14108.  79294.  29649.  25260.  60660.   2995.  53777.  49689.\n",
      "   9083.]\n",
      "Starting to sort left\n",
      "Splitting  [ 54044.  14108.  79294.  29649.  25260.]\n",
      "Starting to sort left\n",
      "Splitting  [ 54044.  14108.]\n",
      "Starting to sort left\n",
      "Splitting  [ 54044.]\n",
      "Hitting Base Case\n",
      "Starting to sort right\n",
      "Splitting  [ 14108.]\n",
      "Hitting Base Case\n",
      "Merging [ 54044.]  and  [ 14108.]\n",
      "Starting to sort right\n",
      "Splitting  [ 79294.  29649.  25260.]\n",
      "Starting to sort left\n",
      "Splitting  [ 79294.]\n",
      "Hitting Base Case\n",
      "Starting to sort right\n",
      "Splitting  [ 29649.  25260.]\n",
      "Starting to sort left\n",
      "Splitting  [ 29649.]\n",
      "Hitting Base Case\n",
      "Starting to sort right\n",
      "Splitting  [ 25260.]\n",
      "Hitting Base Case\n",
      "Merging [ 29649.]  and  [ 25260.]\n",
      "Merging [ 79294.]  and  [ 25260.  25260.]\n",
      "Merging [ 14108.  14108.]  and  [ 25260.  25260.  25260.]\n",
      "Starting to sort right\n",
      "Splitting  [ 60660.   2995.  53777.  49689.   9083.]\n",
      "Starting to sort left\n",
      "Splitting  [ 60660.   2995.]\n",
      "Starting to sort left\n",
      "Splitting  [ 60660.]\n",
      "Hitting Base Case\n",
      "Starting to sort right\n",
      "Splitting  [ 2995.]\n",
      "Hitting Base Case\n",
      "Merging [ 60660.]  and  [ 2995.]\n",
      "Starting to sort right\n",
      "Splitting  [ 53777.  49689.   9083.]\n",
      "Starting to sort left\n",
      "Splitting  [ 53777.]\n",
      "Hitting Base Case\n",
      "Starting to sort right\n",
      "Splitting  [ 49689.   9083.]\n",
      "Starting to sort left\n",
      "Splitting  [ 49689.]\n",
      "Hitting Base Case\n",
      "Starting to sort right\n",
      "Splitting  [ 9083.]\n",
      "Hitting Base Case\n",
      "Merging [ 49689.]  and  [ 9083.]\n",
      "Merging [ 53777.]  and  [ 9083.  9083.]\n",
      "Merging [ 2995.  2995.]  and  [ 9083.  9083.  9083.]\n",
      "Merging [ 14108.  14108.  25260.  25260.  25260.]  and  [ 2995.  2995.  9083.  9083.  9083.]\n"
     ]
    },
    {
     "data": {
      "text/plain": [
       "array([ 2995.,  2995.,  2995.,  2995.,  2995.,  2995.,  2995.,  9083.,\n",
       "        9083.,  9083.])"
      ]
     },
     "execution_count": 45,
     "metadata": {},
     "output_type": "execute_result"
    }
   ],
   "source": [
    "tmp = merge_sort(df[:10])\n",
    "tmp"
   ]
  },
  {
   "cell_type": "code",
   "execution_count": 3,
   "metadata": {
    "collapsed": false
   },
   "outputs": [
    {
     "data": {
      "text/plain": [
       "7"
      ]
     },
     "execution_count": 3,
     "metadata": {},
     "output_type": "execute_result"
    }
   ],
   "source": [
    "15//2"
   ]
  },
  {
   "cell_type": "code",
   "execution_count": 30,
   "metadata": {
    "collapsed": false
   },
   "outputs": [],
   "source": [
    "tmp = np.empty(2, dtype = int)"
   ]
  },
  {
   "cell_type": "code",
   "execution_count": 27,
   "metadata": {
    "collapsed": true
   },
   "outputs": [],
   "source": [
    "np.array?"
   ]
  },
  {
   "cell_type": "code",
   "execution_count": 33,
   "metadata": {
    "collapsed": false
   },
   "outputs": [
    {
     "ename": "SyntaxError",
     "evalue": "invalid syntax (<ipython-input-33-282a4d518e1b>, line 2)",
     "output_type": "error",
     "traceback": [
      "\u001b[0;36m  File \u001b[0;32m\"<ipython-input-33-282a4d518e1b>\"\u001b[0;36m, line \u001b[0;32m2\u001b[0m\n\u001b[0;31m    i =+\u001b[0m\n\u001b[0m        ^\u001b[0m\n\u001b[0;31mSyntaxError\u001b[0m\u001b[0;31m:\u001b[0m invalid syntax\n"
     ]
    }
   ],
   "source": []
  },
  {
   "cell_type": "code",
   "execution_count": 11,
   "metadata": {
    "collapsed": false
   },
   "outputs": [
    {
     "name": "stdout",
     "output_type": "stream",
     "text": [
      "Splitting  [54, 26, 93, 17, 77, 31, 44, 55, 20]\n",
      "Splitting  [54, 26, 93, 17]\n",
      "Splitting  [54, 26]\n",
      "Splitting  [54]\n",
      "Splitting  [26]\n",
      "Merging  [26, 54]\n",
      "Splitting  [93, 17]\n",
      "Splitting  [93]\n",
      "Splitting  [17]\n",
      "Merging  [17, 93]\n",
      "Merging  [17, 26, 54, 93]\n",
      "Splitting  [77, 31, 44, 55, 20]\n",
      "Splitting  [77, 31]\n",
      "Splitting  [77]\n",
      "Splitting  [31]\n",
      "Merging  [31, 77]\n",
      "Splitting  [44, 55, 20]\n",
      "Splitting  [44]\n",
      "Splitting  [55, 20]\n",
      "Splitting  [55]\n",
      "Splitting  [20]\n",
      "Merging  [20, 55]\n",
      "Merging  [20, 44, 55]\n",
      "Merging  [20, 31, 44, 55, 77]\n",
      "Merging  [17, 20, 26, 31, 44, 54, 55, 77, 93]\n",
      "[17, 20, 26, 31, 44, 54, 55, 77, 93]\n"
     ]
    }
   ],
   "source": [
    "def mergeSort(alist):\n",
    "    print(\"Splitting \",alist)\n",
    "    if len(alist) == 1:\n",
    "        return\n",
    "    elif len(alist)>1:\n",
    "        mid = len(alist)//2\n",
    "        lefthalf = alist[:mid]\n",
    "        righthalf = alist[mid:]\n",
    "\n",
    "        mergeSort(lefthalf)\n",
    "        mergeSort(righthalf)\n",
    "\n",
    "        i=0\n",
    "        j=0\n",
    "        k=0\n",
    "        while i < len(lefthalf) and j < len(righthalf):\n",
    "            if lefthalf[i] < righthalf[j]:\n",
    "                alist[k]=lefthalf[i]\n",
    "                i=i+1\n",
    "            else:\n",
    "                alist[k]=righthalf[j]\n",
    "                j=j+1\n",
    "            k=k+1\n",
    "\n",
    "        while i < len(lefthalf):\n",
    "            alist[k]=lefthalf[i]\n",
    "            i=i+1\n",
    "            k=k+1\n",
    "\n",
    "        while j < len(righthalf):\n",
    "            alist[k]=righthalf[j]\n",
    "            j=j+1\n",
    "            k=k+1\n",
    "    print(\"Merging \",alist)\n",
    "\n",
    "alist = [54,26,93,17,77,31,44,55,20]\n",
    "mergeSort(alist)\n",
    "print(alist)\n"
   ]
  },
  {
   "cell_type": "code",
   "execution_count": 5,
   "metadata": {
    "collapsed": false
   },
   "outputs": [
    {
     "name": "stdout",
     "output_type": "stream",
     "text": [
      "Splitting  [ 54044.  14108.  79294.  29649.  25260.  60660.   2995.  53777.  49689.\n",
      "   9083.  16122.  90436.   4615.  40660.  25675.  58943.  92904.   9900.\n",
      "  95588.  46120.  29390.  91323.  85363.  45738.  80717.  57415.   7637.\n",
      "   8540.   6336.  45434.  65895.  61811.   8959.   9139.  31027.  87662.\n",
      "   2484.  65550.  23260.  15616.   3490.  49568.   5979.  44737.  52808.\n",
      "  72122.  37957.  34826.  21419.  73531.  94323.  52910.  84496.  71799.\n",
      "  50162.   1692.   1565.  59279.  56864.  20141.  13893.  63942.   6055.\n",
      "  33424.  44771.  25678.  33639.  27793.  41268.   1857.  63388.  32976.\n",
      "  46195.  61291.  61740.  61680.  45264.  76361.  49243.  73250.  67432.\n",
      "  29124.  15198.  30626.  18950.  13857.  32569.  45179.  47696.  21283.\n",
      "  77169.  26357.  97885.  54741.  57246.  61929.  25997.  45859.   3353.\n",
      "  32204.]\n",
      "Splitting  [ 54044.  14108.  79294.  29649.  25260.  60660.   2995.  53777.  49689.\n",
      "   9083.  16122.  90436.   4615.  40660.  25675.  58943.  92904.   9900.\n",
      "  95588.  46120.  29390.  91323.  85363.  45738.  80717.  57415.   7637.\n",
      "   8540.   6336.  45434.  65895.  61811.   8959.   9139.  31027.  87662.\n",
      "   2484.  65550.  23260.  15616.   3490.  49568.   5979.  44737.  52808.\n",
      "  72122.  37957.  34826.  21419.  73531.]\n",
      "Splitting  [ 54044.  14108.  79294.  29649.  25260.  60660.   2995.  53777.  49689.\n",
      "   9083.  16122.  90436.   4615.  40660.  25675.  58943.  92904.   9900.\n",
      "  95588.  46120.  29390.  91323.  85363.  45738.  80717.]\n",
      "Splitting  [ 54044.  14108.  79294.  29649.  25260.  60660.   2995.  53777.  49689.\n",
      "   9083.  16122.  90436.]\n",
      "Splitting  [ 54044.  14108.  79294.  29649.  25260.  60660.]\n",
      "Splitting  [ 54044.  14108.  79294.]\n",
      "Splitting  [ 54044.]\n",
      "Merging  [ 54044.]\n",
      "Splitting  [ 14108.  79294.]\n",
      "Splitting  [ 14108.]\n",
      "Merging  [ 14108.]\n",
      "Splitting  [ 79294.]\n",
      "Merging  [ 79294.]\n",
      "Merging  [ 14108.  79294.]\n",
      "Merging  [ 14108.  14108.  79294.]\n",
      "Splitting  [ 29649.  25260.  60660.]\n",
      "Splitting  [ 29649.]\n",
      "Merging  [ 29649.]\n",
      "Splitting  [ 25260.  60660.]\n",
      "Splitting  [ 25260.]\n",
      "Merging  [ 25260.]\n",
      "Splitting  [ 60660.]\n",
      "Merging  [ 60660.]\n",
      "Merging  [ 25260.  60660.]\n",
      "Merging  [ 25260.  25260.  60660.]\n",
      "Merging  [ 14108.  14108.  25260.  25260.  25260.  60660.]\n",
      "Splitting  [  2995.  53777.  49689.   9083.  16122.  90436.]\n",
      "Splitting  [  2995.  53777.  49689.]\n",
      "Splitting  [ 2995.]\n",
      "Merging  [ 2995.]\n",
      "Splitting  [ 53777.  49689.]\n",
      "Splitting  [ 53777.]\n",
      "Merging  [ 53777.]\n",
      "Splitting  [ 49689.]\n",
      "Merging  [ 49689.]\n",
      "Merging  [ 49689.  49689.]\n",
      "Merging  [  2995.  49689.  49689.]\n",
      "Splitting  [  9083.  16122.  90436.]\n",
      "Splitting  [ 9083.]\n",
      "Merging  [ 9083.]\n",
      "Splitting  [ 16122.  90436.]\n",
      "Splitting  [ 16122.]\n",
      "Merging  [ 16122.]\n",
      "Splitting  [ 90436.]\n",
      "Merging  [ 90436.]\n",
      "Merging  [ 16122.  90436.]\n",
      "Merging  [  9083.  16122.  90436.]\n",
      "Merging  [  2995.   9083.   9083.   9083.  16122.  90436.]\n",
      "Merging  [  2995.   2995.   2995.   2995.   2995.   2995.   2995.   9083.   9083.\n",
      "   9083.  16122.  90436.]\n",
      "Splitting  [  4615.  40660.  25675.  58943.  92904.   9900.  95588.  46120.  29390.\n",
      "  91323.  85363.  45738.  80717.]\n",
      "Splitting  [  4615.  40660.  25675.  58943.  92904.   9900.]\n",
      "Splitting  [  4615.  40660.  25675.]\n",
      "Splitting  [ 4615.]\n",
      "Merging  [ 4615.]\n",
      "Splitting  [ 40660.  25675.]\n",
      "Splitting  [ 40660.]\n",
      "Merging  [ 40660.]\n",
      "Splitting  [ 25675.]\n",
      "Merging  [ 25675.]\n",
      "Merging  [ 25675.  25675.]\n",
      "Merging  [  4615.  25675.  25675.]\n",
      "Splitting  [ 58943.  92904.   9900.]\n",
      "Splitting  [ 58943.]\n",
      "Merging  [ 58943.]\n",
      "Splitting  [ 92904.   9900.]\n",
      "Splitting  [ 92904.]\n",
      "Merging  [ 92904.]\n",
      "Splitting  [ 9900.]\n",
      "Merging  [ 9900.]\n",
      "Merging  [ 9900.  9900.]\n",
      "Merging  [ 9900.  9900.  9900.]\n",
      "Merging  [ 4615.  9900.  9900.  9900.  9900.  9900.]\n",
      "Splitting  [ 95588.  46120.  29390.  91323.  85363.  45738.  80717.]\n",
      "Splitting  [ 95588.  46120.  29390.]\n",
      "Splitting  [ 95588.]\n",
      "Merging  [ 95588.]\n",
      "Splitting  [ 46120.  29390.]\n",
      "Splitting  [ 46120.]\n",
      "Merging  [ 46120.]\n",
      "Splitting  [ 29390.]\n",
      "Merging  [ 29390.]\n",
      "Merging  [ 29390.  29390.]\n",
      "Merging  [ 29390.  29390.  29390.]\n",
      "Splitting  [ 91323.  85363.  45738.  80717.]\n",
      "Splitting  [ 91323.  85363.]\n",
      "Splitting  [ 91323.]\n",
      "Merging  [ 91323.]\n",
      "Splitting  [ 85363.]\n",
      "Merging  [ 85363.]\n",
      "Merging  [ 85363.  85363.]\n",
      "Splitting  [ 45738.  80717.]\n",
      "Splitting  [ 45738.]\n",
      "Merging  [ 45738.]\n",
      "Splitting  [ 80717.]\n",
      "Merging  [ 80717.]\n",
      "Merging  [ 45738.  80717.]\n",
      "Merging  [ 45738.  45738.  45738.  80717.]\n",
      "Merging  [ 29390.  29390.  29390.  45738.  45738.  45738.  80717.]\n",
      "Merging  [  4615.   9900.   9900.   9900.   9900.   9900.  29390.  29390.  29390.\n",
      "  45738.  45738.  45738.  80717.]\n",
      "Merging  [  2995.   2995.   2995.   2995.   2995.   2995.   2995.   4615.   4615.\n",
      "   4615.   4615.   4615.   4615.   9900.   9900.   9900.   9900.   9900.\n",
      "  29390.  29390.  29390.  45738.  45738.  45738.  80717.]\n",
      "Splitting  [ 57415.   7637.   8540.   6336.  45434.  65895.  61811.   8959.   9139.\n",
      "  31027.  87662.   2484.  65550.  23260.  15616.   3490.  49568.   5979.\n",
      "  44737.  52808.  72122.  37957.  34826.  21419.  73531.]\n",
      "Splitting  [ 57415.   7637.   8540.   6336.  45434.  65895.  61811.   8959.   9139.\n",
      "  31027.  87662.   2484.]\n",
      "Splitting  [ 57415.   7637.   8540.   6336.  45434.  65895.]\n",
      "Splitting  [ 57415.   7637.   8540.]\n",
      "Splitting  [ 57415.]\n",
      "Merging  [ 57415.]\n",
      "Splitting  [ 7637.  8540.]\n",
      "Splitting  [ 7637.]\n",
      "Merging  [ 7637.]\n",
      "Splitting  [ 8540.]\n",
      "Merging  [ 8540.]\n",
      "Merging  [ 7637.  8540.]\n",
      "Merging  [ 7637.  7637.  8540.]\n",
      "Splitting  [  6336.  45434.  65895.]\n",
      "Splitting  [ 6336.]\n",
      "Merging  [ 6336.]\n",
      "Splitting  [ 45434.  65895.]\n",
      "Splitting  [ 45434.]\n",
      "Merging  [ 45434.]\n",
      "Splitting  [ 65895.]\n",
      "Merging  [ 65895.]\n",
      "Merging  [ 45434.  65895.]\n",
      "Merging  [  6336.  45434.  65895.]\n",
      "Merging  [  6336.   6336.   6336.   6336.  45434.  65895.]\n",
      "Splitting  [ 61811.   8959.   9139.  31027.  87662.   2484.]\n",
      "Splitting  [ 61811.   8959.   9139.]\n",
      "Splitting  [ 61811.]\n",
      "Merging  [ 61811.]\n",
      "Splitting  [ 8959.  9139.]\n",
      "Splitting  [ 8959.]\n",
      "Merging  [ 8959.]\n",
      "Splitting  [ 9139.]\n",
      "Merging  [ 9139.]\n",
      "Merging  [ 8959.  9139.]\n",
      "Merging  [ 8959.  8959.  9139.]\n",
      "Splitting  [ 31027.  87662.   2484.]\n",
      "Splitting  [ 31027.]\n",
      "Merging  [ 31027.]\n",
      "Splitting  [ 87662.   2484.]\n",
      "Splitting  [ 87662.]\n",
      "Merging  [ 87662.]\n",
      "Splitting  [ 2484.]\n",
      "Merging  [ 2484.]\n",
      "Merging  [ 2484.  2484.]\n",
      "Merging  [ 2484.  2484.  2484.]\n",
      "Merging  [ 2484.  2484.  2484.  2484.  2484.  2484.]\n",
      "Merging  [ 2484.  2484.  2484.  2484.  2484.  2484.  2484.  2484.  2484.  2484.\n",
      "  2484.  2484.]\n",
      "Splitting  [ 65550.  23260.  15616.   3490.  49568.   5979.  44737.  52808.  72122.\n",
      "  37957.  34826.  21419.  73531.]\n",
      "Splitting  [ 65550.  23260.  15616.   3490.  49568.   5979.]\n",
      "Splitting  [ 65550.  23260.  15616.]\n",
      "Splitting  [ 65550.]\n",
      "Merging  [ 65550.]\n",
      "Splitting  [ 23260.  15616.]\n",
      "Splitting  [ 23260.]\n",
      "Merging  [ 23260.]\n",
      "Splitting  [ 15616.]\n",
      "Merging  [ 15616.]\n",
      "Merging  [ 15616.  15616.]\n",
      "Merging  [ 15616.  15616.  15616.]\n",
      "Splitting  [  3490.  49568.   5979.]\n",
      "Splitting  [ 3490.]\n",
      "Merging  [ 3490.]\n",
      "Splitting  [ 49568.   5979.]\n",
      "Splitting  [ 49568.]\n",
      "Merging  [ 49568.]\n",
      "Splitting  [ 5979.]\n",
      "Merging  [ 5979.]\n",
      "Merging  [ 5979.  5979.]\n",
      "Merging  [ 3490.  5979.  5979.]\n",
      "Merging  [ 3490.  3490.  3490.  3490.  5979.  5979.]\n",
      "Splitting  [ 44737.  52808.  72122.  37957.  34826.  21419.  73531.]\n",
      "Splitting  [ 44737.  52808.  72122.]\n",
      "Splitting  [ 44737.]\n",
      "Merging  [ 44737.]\n",
      "Splitting  [ 52808.  72122.]\n",
      "Splitting  [ 52808.]\n",
      "Merging  [ 52808.]\n",
      "Splitting  [ 72122.]\n",
      "Merging  [ 72122.]\n",
      "Merging  [ 52808.  72122.]\n",
      "Merging  [ 44737.  52808.  72122.]\n",
      "Splitting  [ 37957.  34826.  21419.  73531.]\n",
      "Splitting  [ 37957.  34826.]\n",
      "Splitting  [ 37957.]\n",
      "Merging  [ 37957.]\n",
      "Splitting  [ 34826.]\n",
      "Merging  [ 34826.]\n",
      "Merging  [ 34826.  34826.]\n",
      "Splitting  [ 21419.  73531.]\n",
      "Splitting  [ 21419.]\n",
      "Merging  [ 21419.]\n",
      "Splitting  [ 73531.]\n",
      "Merging  [ 73531.]\n",
      "Merging  [ 21419.  73531.]\n",
      "Merging  [ 21419.  21419.  21419.  73531.]\n",
      "Merging  [ 21419.  21419.  21419.  21419.  21419.  21419.  73531.]\n",
      "Merging  [  3490.   3490.   3490.   3490.   5979.   5979.  21419.  21419.  21419.\n",
      "  21419.  21419.  21419.  73531.]\n",
      "Merging  [  2484.   2484.   2484.   2484.   2484.   2484.   2484.   2484.   2484.\n",
      "   2484.   2484.   2484.   3490.   3490.   3490.   3490.   5979.   5979.\n",
      "  21419.  21419.  21419.  21419.  21419.  21419.  73531.]\n",
      "Merging  [  2484.   2484.   2484.   2484.   2484.   2484.   2484.   2484.   2484.\n",
      "   2484.   2484.   2484.   2484.   2484.   2484.   2484.   2484.   2484.\n",
      "   2484.   2484.   2484.   2484.   2484.   2484.   2484.   2484.   2484.\n",
      "   2484.   2484.   2484.   2484.   2484.   2484.   2484.   2484.   2484.\n",
      "   2484.   3490.   3490.   3490.   3490.   5979.   5979.  21419.  21419.\n",
      "  21419.  21419.  21419.  21419.  73531.]\n",
      "Splitting  [ 94323.  52910.  84496.  71799.  50162.   1692.   1565.  59279.  56864.\n",
      "  20141.  13893.  63942.   6055.  33424.  44771.  25678.  33639.  27793.\n",
      "  41268.   1857.  63388.  32976.  46195.  61291.  61740.  61680.  45264.\n",
      "  76361.  49243.  73250.  67432.  29124.  15198.  30626.  18950.  13857.\n",
      "  32569.  45179.  47696.  21283.  77169.  26357.  97885.  54741.  57246.\n",
      "  61929.  25997.  45859.   3353.  32204.]\n",
      "Splitting  [ 94323.  52910.  84496.  71799.  50162.   1692.   1565.  59279.  56864.\n",
      "  20141.  13893.  63942.   6055.  33424.  44771.  25678.  33639.  27793.\n",
      "  41268.   1857.  63388.  32976.  46195.  61291.  61740.]\n",
      "Splitting  [ 94323.  52910.  84496.  71799.  50162.   1692.   1565.  59279.  56864.\n",
      "  20141.  13893.  63942.]\n",
      "Splitting  [ 94323.  52910.  84496.  71799.  50162.   1692.]\n",
      "Splitting  [ 94323.  52910.  84496.]\n",
      "Splitting  [ 94323.]\n",
      "Merging  [ 94323.]\n",
      "Splitting  [ 52910.  84496.]\n",
      "Splitting  [ 52910.]\n",
      "Merging  [ 52910.]\n",
      "Splitting  [ 84496.]\n",
      "Merging  [ 84496.]\n",
      "Merging  [ 52910.  84496.]\n",
      "Merging  [ 52910.  52910.  84496.]\n",
      "Splitting  [ 71799.  50162.   1692.]\n",
      "Splitting  [ 71799.]\n",
      "Merging  [ 71799.]\n",
      "Splitting  [ 50162.   1692.]\n",
      "Splitting  [ 50162.]\n",
      "Merging  [ 50162.]\n",
      "Splitting  [ 1692.]\n",
      "Merging  [ 1692.]\n",
      "Merging  [ 1692.  1692.]\n",
      "Merging  [ 1692.  1692.  1692.]\n",
      "Merging  [ 1692.  1692.  1692.  1692.  1692.  1692.]\n",
      "Splitting  [  1565.  59279.  56864.  20141.  13893.  63942.]\n",
      "Splitting  [  1565.  59279.  56864.]\n",
      "Splitting  [ 1565.]\n",
      "Merging  [ 1565.]\n",
      "Splitting  [ 59279.  56864.]\n",
      "Splitting  [ 59279.]\n",
      "Merging  [ 59279.]\n",
      "Splitting  [ 56864.]\n",
      "Merging  [ 56864.]\n",
      "Merging  [ 56864.  56864.]\n",
      "Merging  [  1565.  56864.  56864.]\n",
      "Splitting  [ 20141.  13893.  63942.]\n",
      "Splitting  [ 20141.]\n",
      "Merging  [ 20141.]\n",
      "Splitting  [ 13893.  63942.]\n",
      "Splitting  [ 13893.]\n",
      "Merging  [ 13893.]\n",
      "Splitting  [ 63942.]\n",
      "Merging  [ 63942.]\n",
      "Merging  [ 13893.  63942.]\n",
      "Merging  [ 13893.  13893.  63942.]\n",
      "Merging  [  1565.  13893.  13893.  13893.  13893.  63942.]\n",
      "Merging  [  1565.   1565.   1565.   1565.   1565.   1565.   1565.  13893.  13893.\n",
      "  13893.  13893.  63942.]\n",
      "Splitting  [  6055.  33424.  44771.  25678.  33639.  27793.  41268.   1857.  63388.\n",
      "  32976.  46195.  61291.  61740.]\n",
      "Splitting  [  6055.  33424.  44771.  25678.  33639.  27793.]\n",
      "Splitting  [  6055.  33424.  44771.]\n",
      "Splitting  [ 6055.]\n",
      "Merging  [ 6055.]\n",
      "Splitting  [ 33424.  44771.]\n",
      "Splitting  [ 33424.]\n",
      "Merging  [ 33424.]\n",
      "Splitting  [ 44771.]\n",
      "Merging  [ 44771.]\n",
      "Merging  [ 33424.  44771.]\n",
      "Merging  [  6055.  33424.  44771.]\n",
      "Splitting  [ 25678.  33639.  27793.]\n",
      "Splitting  [ 25678.]\n",
      "Merging  [ 25678.]\n",
      "Splitting  [ 33639.  27793.]\n",
      "Splitting  [ 33639.]\n",
      "Merging  [ 33639.]\n",
      "Splitting  [ 27793.]\n",
      "Merging  [ 27793.]\n",
      "Merging  [ 27793.  27793.]\n",
      "Merging  [ 25678.  27793.  27793.]\n",
      "Merging  [  6055.  25678.  25678.  25678.  27793.  27793.]\n",
      "Splitting  [ 41268.   1857.  63388.  32976.  46195.  61291.  61740.]\n",
      "Splitting  [ 41268.   1857.  63388.]\n",
      "Splitting  [ 41268.]\n",
      "Merging  [ 41268.]\n",
      "Splitting  [  1857.  63388.]\n",
      "Splitting  [ 1857.]\n",
      "Merging  [ 1857.]\n",
      "Splitting  [ 63388.]\n",
      "Merging  [ 63388.]\n",
      "Merging  [  1857.  63388.]\n",
      "Merging  [  1857.   1857.  63388.]\n",
      "Splitting  [ 32976.  46195.  61291.  61740.]\n",
      "Splitting  [ 32976.  46195.]\n",
      "Splitting  [ 32976.]\n",
      "Merging  [ 32976.]\n",
      "Splitting  [ 46195.]\n",
      "Merging  [ 46195.]\n",
      "Merging  [ 32976.  46195.]\n",
      "Splitting  [ 61291.  61740.]\n",
      "Splitting  [ 61291.]\n",
      "Merging  [ 61291.]\n",
      "Splitting  [ 61740.]\n",
      "Merging  [ 61740.]\n",
      "Merging  [ 61291.  61740.]\n",
      "Merging  [ 32976.  46195.  61291.  61740.]\n",
      "Merging  [  1857.   1857.  32976.  32976.  46195.  61291.  61740.]\n",
      "Merging  [  1857.   1857.   1857.   1857.   1857.   1857.   1857.   1857.  32976.\n",
      "  32976.  46195.  61291.  61740.]\n",
      "Merging  [  1565.   1565.   1565.   1565.   1565.   1565.   1565.   1857.   1857.\n",
      "   1857.   1857.   1857.   1857.   1857.   1857.   1857.   1857.   1857.\n",
      "   1857.   1857.  32976.  32976.  46195.  61291.  61740.]\n",
      "Splitting  [ 61680.  45264.  76361.  49243.  73250.  67432.  29124.  15198.  30626.\n",
      "  18950.  13857.  32569.  45179.  47696.  21283.  77169.  26357.  97885.\n",
      "  54741.  57246.  61929.  25997.  45859.   3353.  32204.]\n",
      "Splitting  [ 61680.  45264.  76361.  49243.  73250.  67432.  29124.  15198.  30626.\n",
      "  18950.  13857.  32569.]\n",
      "Splitting  [ 61680.  45264.  76361.  49243.  73250.  67432.]\n",
      "Splitting  [ 61680.  45264.  76361.]\n",
      "Splitting  [ 61680.]\n",
      "Merging  [ 61680.]\n",
      "Splitting  [ 45264.  76361.]\n",
      "Splitting  [ 45264.]\n",
      "Merging  [ 45264.]\n",
      "Splitting  [ 76361.]\n",
      "Merging  [ 76361.]\n",
      "Merging  [ 45264.  76361.]\n",
      "Merging  [ 45264.  45264.  76361.]\n",
      "Splitting  [ 49243.  73250.  67432.]\n",
      "Splitting  [ 49243.]\n",
      "Merging  [ 49243.]\n",
      "Splitting  [ 73250.  67432.]\n",
      "Splitting  [ 73250.]\n",
      "Merging  [ 73250.]\n",
      "Splitting  [ 67432.]\n",
      "Merging  [ 67432.]\n",
      "Merging  [ 67432.  67432.]\n",
      "Merging  [ 49243.  67432.  67432.]\n",
      "Merging  [ 45264.  45264.  49243.  49243.  67432.  67432.]\n",
      "Splitting  [ 29124.  15198.  30626.  18950.  13857.  32569.]\n",
      "Splitting  [ 29124.  15198.  30626.]\n",
      "Splitting  [ 29124.]\n",
      "Merging  [ 29124.]\n",
      "Splitting  [ 15198.  30626.]\n",
      "Splitting  [ 15198.]\n",
      "Merging  [ 15198.]\n",
      "Splitting  [ 30626.]\n",
      "Merging  [ 30626.]\n",
      "Merging  [ 15198.  30626.]\n",
      "Merging  [ 15198.  15198.  30626.]\n",
      "Splitting  [ 18950.  13857.  32569.]\n",
      "Splitting  [ 18950.]\n",
      "Merging  [ 18950.]\n",
      "Splitting  [ 13857.  32569.]\n",
      "Splitting  [ 13857.]\n",
      "Merging  [ 13857.]\n",
      "Splitting  [ 32569.]\n",
      "Merging  [ 32569.]\n",
      "Merging  [ 13857.  32569.]\n",
      "Merging  [ 13857.  13857.  32569.]\n",
      "Merging  [ 13857.  13857.  13857.  13857.  13857.  32569.]\n",
      "Merging  [ 13857.  13857.  13857.  13857.  13857.  13857.  13857.  13857.  13857.\n",
      "  13857.  13857.  32569.]\n",
      "Splitting  [ 45179.  47696.  21283.  77169.  26357.  97885.  54741.  57246.  61929.\n",
      "  25997.  45859.   3353.  32204.]\n",
      "Splitting  [ 45179.  47696.  21283.  77169.  26357.  97885.]\n",
      "Splitting  [ 45179.  47696.  21283.]\n",
      "Splitting  [ 45179.]\n",
      "Merging  [ 45179.]\n",
      "Splitting  [ 47696.  21283.]\n",
      "Splitting  [ 47696.]\n",
      "Merging  [ 47696.]\n",
      "Splitting  [ 21283.]\n",
      "Merging  [ 21283.]\n",
      "Merging  [ 21283.  21283.]\n",
      "Merging  [ 21283.  21283.  21283.]\n",
      "Splitting  [ 77169.  26357.  97885.]\n",
      "Splitting  [ 77169.]\n",
      "Merging  [ 77169.]\n",
      "Splitting  [ 26357.  97885.]\n",
      "Splitting  [ 26357.]\n",
      "Merging  [ 26357.]\n",
      "Splitting  [ 97885.]\n",
      "Merging  [ 97885.]\n",
      "Merging  [ 26357.  97885.]\n",
      "Merging  [ 26357.  26357.  97885.]\n",
      "Merging  [ 21283.  21283.  21283.  26357.  26357.  97885.]\n",
      "Splitting  [ 54741.  57246.  61929.  25997.  45859.   3353.  32204.]\n",
      "Splitting  [ 54741.  57246.  61929.]\n",
      "Splitting  [ 54741.]\n",
      "Merging  [ 54741.]\n",
      "Splitting  [ 57246.  61929.]\n",
      "Splitting  [ 57246.]\n",
      "Merging  [ 57246.]\n",
      "Splitting  [ 61929.]\n",
      "Merging  [ 61929.]\n",
      "Merging  [ 57246.  61929.]\n",
      "Merging  [ 54741.  57246.  61929.]\n",
      "Splitting  [ 25997.  45859.   3353.  32204.]\n",
      "Splitting  [ 25997.  45859.]\n",
      "Splitting  [ 25997.]\n",
      "Merging  [ 25997.]\n",
      "Splitting  [ 45859.]\n",
      "Merging  [ 45859.]\n",
      "Merging  [ 25997.  45859.]\n",
      "Splitting  [  3353.  32204.]\n",
      "Splitting  [ 3353.]\n",
      "Merging  [ 3353.]\n",
      "Splitting  [ 32204.]\n",
      "Merging  [ 32204.]\n",
      "Merging  [  3353.  32204.]\n",
      "Merging  [  3353.   3353.   3353.  32204.]\n",
      "Merging  [  3353.   3353.   3353.   3353.   3353.   3353.  32204.]\n",
      "Merging  [  3353.   3353.   3353.   3353.   3353.   3353.   3353.   3353.   3353.\n",
      "   3353.   3353.   3353.  32204.]\n",
      "Merging  [  3353.   3353.   3353.   3353.   3353.   3353.   3353.   3353.   3353.\n",
      "   3353.   3353.   3353.   3353.   3353.   3353.   3353.   3353.   3353.\n",
      "   3353.   3353.   3353.   3353.   3353.   3353.  32204.]\n",
      "Merging  [  1565.   1565.   1565.   1565.   1565.   1565.   1565.   1857.   1857.\n",
      "   1857.   1857.   1857.   1857.   1857.   1857.   1857.   1857.   1857.\n",
      "   1857.   1857.   3353.   3353.   3353.   3353.   3353.   3353.   3353.\n",
      "   3353.   3353.   3353.   3353.   3353.   3353.   3353.   3353.   3353.\n",
      "   3353.   3353.   3353.   3353.   3353.   3353.   3353.   3353.   3353.\n",
      "   3353.   3353.   3353.   3353.  32204.]\n",
      "Merging  [  1565.   1565.   1565.   1565.   1565.   1565.   1565.   1565.   1565.\n",
      "   1565.   1565.   1565.   1565.   1565.   1565.   1565.   1565.   1565.\n",
      "   1565.   1565.   1565.   1565.   1565.   1565.   1565.   1565.   1565.\n",
      "   1565.   1565.   1565.   1565.   1565.   1565.   1565.   1565.   1565.\n",
      "   1565.   1565.   1565.   1565.   1565.   1565.   1565.   1565.   1565.\n",
      "   1565.   1565.   1565.   1565.   1565.   1565.   1565.   1565.   1565.\n",
      "   1565.   1565.   1565.   1857.   1857.   1857.   1857.   1857.   1857.\n",
      "   1857.   1857.   1857.   1857.   1857.   1857.   1857.   3353.   3353.\n",
      "   3353.   3353.   3353.   3353.   3353.   3353.   3353.   3353.   3353.\n",
      "   3353.   3353.   3353.   3353.   3353.   3353.   3353.   3353.   3353.\n",
      "   3353.   3353.   3353.   3353.   3353.   3353.   3353.   3353.   3353.\n",
      "  32204.]\n"
     ]
    }
   ],
   "source": [
    "mergeSort(df[:100])"
   ]
  },
  {
   "cell_type": "code",
   "execution_count": 10,
   "metadata": {
    "collapsed": false
   },
   "outputs": [
    {
     "name": "stdout",
     "output_type": "stream",
     "text": [
      "Splitting  [  1565.   1565.   1565.   1565.   1565.   1565.   1565.   1565.   1565.\n",
      "   1565.   1565.   1565.   1565.   1565.   1565.   1565.   1565.   1565.\n",
      "   1565.   1565.   1565.   1565.   1565.   1565.   1565.   1565.   1565.\n",
      "   1565.   1565.   1565.   1565.   1565.   1565.   1565.   1565.   1565.\n",
      "   1565.   1565.   1565.   1565.   1565.   1565.   1565.   1565.   1565.\n",
      "   1565.   1565.   1565.   1565.   1565.   1565.   1565.   1565.   1565.\n",
      "   1565.   1565.   1565.   1857.   1857.   1857.   1857.   1857.   1857.\n",
      "   1857.   1857.   1857.   1857.   1857.   1857.   1857.   3353.   3353.\n",
      "   3353.   3353.   3353.   3353.   3353.   3353.   3353.   3353.   3353.\n",
      "   3353.   3353.   3353.   3353.   3353.   3353.   3353.   3353.   3353.\n",
      "   3353.   3353.   3353.   3353.   3353.   3353.   3353.   3353.   3353.\n",
      "  32204.]\n",
      "Splitting  [ 1565.  1565.  1565.  1565.  1565.  1565.  1565.  1565.  1565.  1565.\n",
      "  1565.  1565.  1565.  1565.  1565.  1565.  1565.  1565.  1565.  1565.\n",
      "  1565.  1565.  1565.  1565.  1565.  1565.  1565.  1565.  1565.  1565.\n",
      "  1565.  1565.  1565.  1565.  1565.  1565.  1565.  1565.  1565.  1565.\n",
      "  1565.  1565.  1565.  1565.  1565.  1565.  1565.  1565.  1565.  1565.]\n",
      "Splitting  [ 1565.  1565.  1565.  1565.  1565.  1565.  1565.  1565.  1565.  1565.\n",
      "  1565.  1565.  1565.  1565.  1565.  1565.  1565.  1565.  1565.  1565.\n",
      "  1565.  1565.  1565.  1565.  1565.]\n",
      "Splitting  [ 1565.  1565.  1565.  1565.  1565.  1565.  1565.  1565.  1565.  1565.\n",
      "  1565.  1565.]\n",
      "Splitting  [ 1565.  1565.  1565.  1565.  1565.  1565.]\n",
      "Splitting  [ 1565.  1565.  1565.]\n",
      "Splitting  [ 1565.]\n",
      "Splitting  [ 1565.]\n"
     ]
    },
    {
     "ename": "TypeError",
     "evalue": "object of type 'NoneType' has no len()",
     "output_type": "error",
     "traceback": [
      "\u001b[0;31m---------------------------------------------------------------------------\u001b[0m",
      "\u001b[0;31mTypeError\u001b[0m                                 Traceback (most recent call last)",
      "\u001b[0;32m<ipython-input-10-74b3c4a193a2>\u001b[0m in \u001b[0;36m<module>\u001b[0;34m()\u001b[0m\n\u001b[0;32m----> 1\u001b[0;31m \u001b[0mmerge_sort\u001b[0m\u001b[0;34m(\u001b[0m\u001b[0mdf\u001b[0m\u001b[0;34m[\u001b[0m\u001b[0;34m:\u001b[0m\u001b[0;36m100\u001b[0m\u001b[0;34m]\u001b[0m\u001b[0;34m)\u001b[0m\u001b[0;34m\u001b[0m\u001b[0m\n\u001b[0m",
      "\u001b[0;32m<ipython-input-8-8753b4bcc8f6>\u001b[0m in \u001b[0;36mmerge_sort\u001b[0;34m(in_array)\u001b[0m\n\u001b[1;32m     24\u001b[0m         \u001b[0mright_array\u001b[0m \u001b[0;34m=\u001b[0m \u001b[0min_array\u001b[0m\u001b[0;34m[\u001b[0m\u001b[0mmid\u001b[0m\u001b[0;34m:\u001b[0m\u001b[0;34m]\u001b[0m\u001b[0;34m\u001b[0m\u001b[0m\n\u001b[1;32m     25\u001b[0m \u001b[0;34m\u001b[0m\u001b[0m\n\u001b[0;32m---> 26\u001b[0;31m         \u001b[0mleft_sorted\u001b[0m \u001b[0;34m=\u001b[0m \u001b[0mmerge_sort\u001b[0m\u001b[0;34m(\u001b[0m\u001b[0mleft_array\u001b[0m\u001b[0;34m)\u001b[0m\u001b[0;34m\u001b[0m\u001b[0m\n\u001b[0m\u001b[1;32m     27\u001b[0m         \u001b[0mright_sorted\u001b[0m \u001b[0;34m=\u001b[0m \u001b[0mmerge_sort\u001b[0m\u001b[0;34m(\u001b[0m\u001b[0mleft_array\u001b[0m\u001b[0;34m)\u001b[0m\u001b[0;34m\u001b[0m\u001b[0m\n\u001b[1;32m     28\u001b[0m \u001b[0;34m\u001b[0m\u001b[0m\n",
      "\u001b[0;32m<ipython-input-8-8753b4bcc8f6>\u001b[0m in \u001b[0;36mmerge_sort\u001b[0;34m(in_array)\u001b[0m\n\u001b[1;32m     24\u001b[0m         \u001b[0mright_array\u001b[0m \u001b[0;34m=\u001b[0m \u001b[0min_array\u001b[0m\u001b[0;34m[\u001b[0m\u001b[0mmid\u001b[0m\u001b[0;34m:\u001b[0m\u001b[0;34m]\u001b[0m\u001b[0;34m\u001b[0m\u001b[0m\n\u001b[1;32m     25\u001b[0m \u001b[0;34m\u001b[0m\u001b[0m\n\u001b[0;32m---> 26\u001b[0;31m         \u001b[0mleft_sorted\u001b[0m \u001b[0;34m=\u001b[0m \u001b[0mmerge_sort\u001b[0m\u001b[0;34m(\u001b[0m\u001b[0mleft_array\u001b[0m\u001b[0;34m)\u001b[0m\u001b[0;34m\u001b[0m\u001b[0m\n\u001b[0m\u001b[1;32m     27\u001b[0m         \u001b[0mright_sorted\u001b[0m \u001b[0;34m=\u001b[0m \u001b[0mmerge_sort\u001b[0m\u001b[0;34m(\u001b[0m\u001b[0mleft_array\u001b[0m\u001b[0;34m)\u001b[0m\u001b[0;34m\u001b[0m\u001b[0m\n\u001b[1;32m     28\u001b[0m \u001b[0;34m\u001b[0m\u001b[0m\n",
      "\u001b[0;32m<ipython-input-8-8753b4bcc8f6>\u001b[0m in \u001b[0;36mmerge_sort\u001b[0;34m(in_array)\u001b[0m\n\u001b[1;32m     24\u001b[0m         \u001b[0mright_array\u001b[0m \u001b[0;34m=\u001b[0m \u001b[0min_array\u001b[0m\u001b[0;34m[\u001b[0m\u001b[0mmid\u001b[0m\u001b[0;34m:\u001b[0m\u001b[0;34m]\u001b[0m\u001b[0;34m\u001b[0m\u001b[0m\n\u001b[1;32m     25\u001b[0m \u001b[0;34m\u001b[0m\u001b[0m\n\u001b[0;32m---> 26\u001b[0;31m         \u001b[0mleft_sorted\u001b[0m \u001b[0;34m=\u001b[0m \u001b[0mmerge_sort\u001b[0m\u001b[0;34m(\u001b[0m\u001b[0mleft_array\u001b[0m\u001b[0;34m)\u001b[0m\u001b[0;34m\u001b[0m\u001b[0m\n\u001b[0m\u001b[1;32m     27\u001b[0m         \u001b[0mright_sorted\u001b[0m \u001b[0;34m=\u001b[0m \u001b[0mmerge_sort\u001b[0m\u001b[0;34m(\u001b[0m\u001b[0mleft_array\u001b[0m\u001b[0;34m)\u001b[0m\u001b[0;34m\u001b[0m\u001b[0m\n\u001b[1;32m     28\u001b[0m \u001b[0;34m\u001b[0m\u001b[0m\n",
      "\u001b[0;32m<ipython-input-8-8753b4bcc8f6>\u001b[0m in \u001b[0;36mmerge_sort\u001b[0;34m(in_array)\u001b[0m\n\u001b[1;32m     24\u001b[0m         \u001b[0mright_array\u001b[0m \u001b[0;34m=\u001b[0m \u001b[0min_array\u001b[0m\u001b[0;34m[\u001b[0m\u001b[0mmid\u001b[0m\u001b[0;34m:\u001b[0m\u001b[0;34m]\u001b[0m\u001b[0;34m\u001b[0m\u001b[0m\n\u001b[1;32m     25\u001b[0m \u001b[0;34m\u001b[0m\u001b[0m\n\u001b[0;32m---> 26\u001b[0;31m         \u001b[0mleft_sorted\u001b[0m \u001b[0;34m=\u001b[0m \u001b[0mmerge_sort\u001b[0m\u001b[0;34m(\u001b[0m\u001b[0mleft_array\u001b[0m\u001b[0;34m)\u001b[0m\u001b[0;34m\u001b[0m\u001b[0m\n\u001b[0m\u001b[1;32m     27\u001b[0m         \u001b[0mright_sorted\u001b[0m \u001b[0;34m=\u001b[0m \u001b[0mmerge_sort\u001b[0m\u001b[0;34m(\u001b[0m\u001b[0mleft_array\u001b[0m\u001b[0;34m)\u001b[0m\u001b[0;34m\u001b[0m\u001b[0m\n\u001b[1;32m     28\u001b[0m \u001b[0;34m\u001b[0m\u001b[0m\n",
      "\u001b[0;32m<ipython-input-8-8753b4bcc8f6>\u001b[0m in \u001b[0;36mmerge_sort\u001b[0;34m(in_array)\u001b[0m\n\u001b[1;32m     24\u001b[0m         \u001b[0mright_array\u001b[0m \u001b[0;34m=\u001b[0m \u001b[0min_array\u001b[0m\u001b[0;34m[\u001b[0m\u001b[0mmid\u001b[0m\u001b[0;34m:\u001b[0m\u001b[0;34m]\u001b[0m\u001b[0;34m\u001b[0m\u001b[0m\n\u001b[1;32m     25\u001b[0m \u001b[0;34m\u001b[0m\u001b[0m\n\u001b[0;32m---> 26\u001b[0;31m         \u001b[0mleft_sorted\u001b[0m \u001b[0;34m=\u001b[0m \u001b[0mmerge_sort\u001b[0m\u001b[0;34m(\u001b[0m\u001b[0mleft_array\u001b[0m\u001b[0;34m)\u001b[0m\u001b[0;34m\u001b[0m\u001b[0m\n\u001b[0m\u001b[1;32m     27\u001b[0m         \u001b[0mright_sorted\u001b[0m \u001b[0;34m=\u001b[0m \u001b[0mmerge_sort\u001b[0m\u001b[0;34m(\u001b[0m\u001b[0mleft_array\u001b[0m\u001b[0;34m)\u001b[0m\u001b[0;34m\u001b[0m\u001b[0m\n\u001b[1;32m     28\u001b[0m \u001b[0;34m\u001b[0m\u001b[0m\n",
      "\u001b[0;32m<ipython-input-8-8753b4bcc8f6>\u001b[0m in \u001b[0;36mmerge_sort\u001b[0;34m(in_array)\u001b[0m\n\u001b[1;32m     37\u001b[0m         \u001b[0mj\u001b[0m \u001b[0;34m=\u001b[0m \u001b[0;36m0\u001b[0m \u001b[0;31m# Counter for elements in the right array\u001b[0m\u001b[0;34m\u001b[0m\u001b[0m\n\u001b[1;32m     38\u001b[0m         \u001b[0mk\u001b[0m \u001b[0;34m=\u001b[0m \u001b[0;36m0\u001b[0m \u001b[0;31m# Counter for the sorted array\u001b[0m\u001b[0;34m\u001b[0m\u001b[0m\n\u001b[0;32m---> 39\u001b[0;31m         \u001b[0msize\u001b[0m \u001b[0;34m=\u001b[0m \u001b[0mlen\u001b[0m\u001b[0;34m(\u001b[0m\u001b[0mleft_sorted\u001b[0m\u001b[0;34m)\u001b[0m \u001b[0;34m+\u001b[0m \u001b[0mlen\u001b[0m\u001b[0;34m(\u001b[0m\u001b[0mright_sorted\u001b[0m\u001b[0;34m)\u001b[0m\u001b[0;34m\u001b[0m\u001b[0m\n\u001b[0m\u001b[1;32m     40\u001b[0m         \u001b[0;31m#sorted_array = np.empty(size, dtype = int) # Initializing the sorted array\u001b[0m\u001b[0;34m\u001b[0m\u001b[0;34m\u001b[0m\u001b[0m\n\u001b[1;32m     41\u001b[0m \u001b[0;34m\u001b[0m\u001b[0m\n",
      "\u001b[0;31mTypeError\u001b[0m: object of type 'NoneType' has no len()"
     ]
    }
   ],
   "source": [
    "merge_sort(df[:100])"
   ]
  },
  {
   "cell_type": "code",
   "execution_count": null,
   "metadata": {
    "collapsed": true
   },
   "outputs": [],
   "source": []
  }
 ],
 "metadata": {
  "kernelspec": {
   "display_name": "Python 3",
   "language": "python",
   "name": "python3"
  },
  "language_info": {
   "codemirror_mode": {
    "name": "ipython",
    "version": 3
   },
   "file_extension": ".py",
   "mimetype": "text/x-python",
   "name": "python",
   "nbconvert_exporter": "python",
   "pygments_lexer": "ipython3",
   "version": "3.5.1"
  }
 },
 "nbformat": 4,
 "nbformat_minor": 0
}
