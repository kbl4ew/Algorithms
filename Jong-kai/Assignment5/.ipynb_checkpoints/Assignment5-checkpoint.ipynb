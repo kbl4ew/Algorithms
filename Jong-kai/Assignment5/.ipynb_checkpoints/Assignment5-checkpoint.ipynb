{
 "cells": [
  {
   "cell_type": "code",
   "execution_count": null,
   "metadata": {
    "collapsed": true
   },
   "outputs": [],
   "source": [
    "\"\"\"The file contains an adjacency list representation of an undirected weighted graph with 200 vertices labeled 1 to \n",
    "200. Each row consists of the node tuples that are adjacent to that particular vertex along with the length of that \n",
    "edge. For example, the 6th row has 6 as the first entry indicating that this row corresponds to the vertex labeled 6. \n",
    "The next entry of this row \"141,8200\" indicates that there is an edge between vertex 6 and vertex 141 that has length \n",
    "8200. The rest of the pairs of this row indicate the other vertices adjacent to vertex 6 and the lengths of the \n",
    "corresponding edges.\n",
    "\n",
    "Your task is to run Dijkstra's shortest-path algorithm on this graph, using 1 (the first vertex) as the source vertex,\n",
    "and to compute the shortest-path distances between 1 and every other vertex of the graph. If there is no path between \n",
    "a vertex v and vertex 1, we'll define the shortest-path distance between 1 and v to be 1000000.\n",
    "\n",
    "You should report the shortest-path distances to the following ten vertices, in order: 7,37,59,82,99,115,133,165,188,\n",
    "197.You should encode the distances as a comma-separated string of integers. So if you find that all ten of these \n",
    "vertices except 115 are at distance 1000 away from vertex 1 and 115 is 2000 distance away, then your answer should be\n",
    "1000,1000,1000,1000,1000,2000,1000,1000,1000,1000. Remember the order of reporting DOES MATTER, and the string should\n",
    "be in the same order in which the above ten vertices are given. The string should not contain any spaces. Please type\n",
    "your answerin the space provided.\n",
    "\n",
    "IMPLEMENTATION NOTES: This graph is small enough that the straightforward O(mn) time implementation of Dijkstra's \n",
    "algorithm should work fine. OPTIONAL: For those of you seeking an additional challenge, try implementing the heap-based\n",
    "version. Note this requires a heap that supports deletions, and you'll probably need to maintain some kind of mapping \n",
    "between vertices and their positions in the heap.\"\"\""
   ]
  },
  {
   "cell_type": "code",
   "execution_count": 1,
   "metadata": {
    "collapsed": false
   },
   "outputs": [],
   "source": [
    "def readInput(fileName):\n",
    "    f = open(fileName, 'r')\n",
    "    data = {}\n",
    "    lineNo = 1\n",
    "    read = f.readline()\n",
    "    while read:\n",
    "        data[lineNo] = read.split()[1:]\n",
    "        read = f.readline()\n",
    "        lineNo += 1\n",
    "    return(data)"
   ]
  },
  {
   "cell_type": "code",
   "execution_count": 2,
   "metadata": {
    "collapsed": false
   },
   "outputs": [],
   "source": [
    "def dijkstra(rootNode, graph):\n",
    "    Edges = {rootNode: graph[rootNode]}\n",
    "    del graph[rootNode]\n",
    "    X = [rootNode]\n",
    "    A = {rootNode:0}\n",
    "    while graph:\n",
    "        maxDist = 1000000\n",
    "        pop = []\n",
    "        for i in X:\n",
    "            if Edges[i]:\n",
    "                for edge in Edges[i]:\n",
    "                    dest, distance = [int(x) for x in edge.split(',')]\n",
    "                    if dest in X:\n",
    "                        pop.append((i, edge))\n",
    "                        continue\n",
    "                    distance = A[i] + distance\n",
    "                    if distance < maxDist:\n",
    "                        maxDist = distance\n",
    "                        new = dest\n",
    "        for popEdge in pop:\n",
    "            i, edge = popEdge\n",
    "            Edges[i].pop(Edges[i].index(edge))\n",
    "        X.append(new)\n",
    "        Edges[new] = graph[new]\n",
    "        A[new] = maxDist\n",
    "        del graph[new]\n",
    "    return A"
   ]
  },
  {
   "cell_type": "code",
   "execution_count": 3,
   "metadata": {
    "collapsed": false
   },
   "outputs": [
    {
     "name": "stdout",
     "output_type": "stream",
     "text": [
      "2599 2610 2947 2052 2367 2399 2029 2442 2505 3068\n"
     ]
    }
   ],
   "source": [
    "data = readInput(\"DijkstraData.txt\")\n",
    "ans = dijkstra(1, data)\n",
    "print(ans[7], ans[37], ans[59], ans[82], ans[99], ans[115], ans[133], ans[165], ans[188], ans[197])"
   ]
  },
  {
   "cell_type": "code",
   "execution_count": null,
   "metadata": {
    "collapsed": true
   },
   "outputs": [],
   "source": []
  }
 ],
 "metadata": {
  "kernelspec": {
   "display_name": "Python 3",
   "language": "python",
   "name": "python3"
  },
  "language_info": {
   "codemirror_mode": {
    "name": "ipython",
    "version": 3
   },
   "file_extension": ".py",
   "mimetype": "text/x-python",
   "name": "python",
   "nbconvert_exporter": "python",
   "pygments_lexer": "ipython3",
   "version": "3.4.3"
  }
 },
 "nbformat": 4,
 "nbformat_minor": 0
}
