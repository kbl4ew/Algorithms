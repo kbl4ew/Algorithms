{
 "cells": [
  {
   "cell_type": "code",
   "execution_count": null,
   "metadata": {
    "collapsed": false
   },
   "outputs": [],
   "source": [
    "'''\n",
    "The file contains the adjacency list representation of a simple undirected graph. There are 200 vertices labeled 1 to \n",
    "200. The first column in the file represents the vertex label, and the particular row (other entries except the first \n",
    "column) tells all the vertices that the vertex is adjacent to. So for example, the 6th row looks like : \n",
    "\"6\t155\t56\t52\t120\t......\". This just means that the vertex with label 6 is adjacent to (i.e., shares an edge with) \n",
    "the vertices with labels 155,56,52,120,......,etc\n",
    "\n",
    "Your task is to code up and run the randomized contraction algorithm for the min cut problem and use it on the above \n",
    "graph to compute the min cut. (HINT: Note that you'll have to figure out an implementation of edge contractions. \n",
    "Initially, you might want to do this naively, creating a new graph from the old every time there's an edge \n",
    "contraction. But you should also think about more efficient implementations.) \n",
    "\n",
    "(WARNING: As per the video lectures, please make sure \n",
    "to run the algorithm many times with different random seeds, and remember the smallest cut that you ever find.) \n",
    "\n",
    "Write your numeric answer in the space provided. So e.g., if your answer is 5, just type 5 in the space provided.\n",
    "'''"
   ]
  },
  {
   "cell_type": "code",
   "execution_count": 1,
   "metadata": {
    "collapsed": false
   },
   "outputs": [],
   "source": [
    "from collections import defaultdict\n",
    "from random import choice\n",
    "from copy import deepcopy\n",
    "\n",
    "f  = open('kargerMinCut.txt', 'r')\n",
    "raw = f.readlines()\n",
    "\n",
    "EdgesDict = defaultdict(list)\n",
    "for i in range(len(raw)):\n",
    "    tmp = raw[i].split('\\t')[:-1]\n",
    "    for j in tmp[1:]:\n",
    "        EdgesDict[tmp[0]].append(j)\n",
    "        \n",
    "# Edges = {'7':['23','64','99'], \n",
    "#          '23':['7','47','64','99','158'], \n",
    "#          '47':['23','99','158'], \n",
    "#          '64':['7','23','158'], \n",
    "#          '99':['7','23','47'], \n",
    "#          '158':['23','47','64']}"
   ]
  },
  {
   "cell_type": "code",
   "execution_count": 2,
   "metadata": {
    "collapsed": true
   },
   "outputs": [],
   "source": [
    "def minCut(Edges):\n",
    "    while len(Edges.keys()) > 2:        \n",
    "        head, tail = choice([(key, value) for key in Edges.keys() for value in Edges[key]])\n",
    "\n",
    "        tmp = []\n",
    "        for h in Edges[tail]:\n",
    "            if h != head:\n",
    "                tmp.append(h)\n",
    "                for ind2, h2 in enumerate(Edges[h]):\n",
    "                    if h2 == tail:\n",
    "                        Edges[h][ind2] = head\n",
    "        Edges[tail] = tmp\n",
    "        Edges[head] = [x for x in Edges[head] if x != tail] + Edges[tail]\n",
    "        del Edges[tail]\n",
    "\n",
    "    once = len(list(Edges.items())[0][1])        \n",
    "    return once"
   ]
  },
  {
   "cell_type": "code",
   "execution_count": 4,
   "metadata": {
    "collapsed": false
   },
   "outputs": [
    {
     "name": "stdout",
     "output_type": "stream",
     "text": [
      "17\n"
     ]
    }
   ],
   "source": [
    "min = len(raw)-1\n",
    "for i in range(len(raw)):\n",
    "    Edges = deepcopy(EdgesDict)\n",
    "    once = minCut(Edges)\n",
    "    if once < min:\n",
    "        min = once\n",
    "print(min)"
   ]
  },
  {
   "cell_type": "code",
   "execution_count": null,
   "metadata": {
    "collapsed": true
   },
   "outputs": [],
   "source": []
  }
 ],
 "metadata": {
  "kernelspec": {
   "display_name": "Python 3",
   "language": "python",
   "name": "python3"
  },
  "language_info": {
   "codemirror_mode": {
    "name": "ipython",
    "version": 3
   },
   "file_extension": ".py",
   "mimetype": "text/x-python",
   "name": "python",
   "nbconvert_exporter": "python",
   "pygments_lexer": "ipython3",
   "version": "3.4.3"
  }
 },
 "nbformat": 4,
 "nbformat_minor": 0
}
