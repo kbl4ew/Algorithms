{
 "cells": [
  {
   "cell_type": "code",
   "execution_count": null,
   "metadata": {
    "collapsed": true
   },
   "outputs": [],
   "source": [
    "'''The goal of this problem is to implement a variant of the 2-SUM algorithm (covered in the Week 6 lecture on hash \n",
    "table applications).\n",
    "\n",
    "The file contains 1 million integers, both positive and negative (there might be some repetitions!).This is your array \n",
    "of integers, with the ith row of the file specifying the ith entry of the array.\n",
    "\n",
    "Your task is to compute the number of target values t in the interval [-10000,10000] (inclusive) such that there are \n",
    "distinct numbers x,y in the input file that satisfy x+y=t. (NOTE: ensuring distinctness requires a one-line addition \n",
    "to the algorithm from lecture.)\n",
    "\n",
    "Write your numeric answer (an integer between 0 and 20001) in the space provided.\n",
    "\n",
    "OPTIONAL CHALLENGE: If this problem is too easy for you, try implementing your own hash table for it. For example, you\n",
    "could compare performance under the chaining and open addressing approaches to resolving collisions.'''"
   ]
  },
  {
   "cell_type": "code",
   "execution_count": 1,
   "metadata": {
    "collapsed": true
   },
   "outputs": [],
   "source": [
    "class lListNode(object):\n",
    "    def __init__(self, value, next=None):\n",
    "        self.value = value\n",
    "        self.next = next\n",
    "        \n",
    "    def __str__(self):\n",
    "        return str(self.value)\n"
   ]
  },
  {
   "cell_type": "code",
   "execution_count": 2,
   "metadata": {
    "collapsed": true
   },
   "outputs": [],
   "source": [
    "def HashMap(i):\n",
    "    key = i % 10007\n",
    "    if hashTable[key] == 0:\n",
    "        hashTable[key] = lListNode(i)\n",
    "    else:\n",
    "        pointer = hashTable[key]\n",
    "        while pointer.next:\n",
    "            if pointer.value == i:\n",
    "                break\n",
    "            pointer = pointer.next\n",
    "        pointer.next = lListNode(i)\n"
   ]
  },
  {
   "cell_type": "code",
   "execution_count": 3,
   "metadata": {
    "collapsed": true
   },
   "outputs": [],
   "source": [
    "def HashSearch(i):\n",
    "    key = i % 10007\n",
    "    if hashTable[key] == 0:\n",
    "        return False\n",
    "    else:\n",
    "        pointer = hashTable[key]\n",
    "        if pointer.value == i:\n",
    "            return True\n",
    "        else:\n",
    "            while pointer.next:\n",
    "                if pointer.next.value == i:\n",
    "                    return True\n",
    "                else:\n",
    "                    pointer = pointer.next\n",
    "            return False\n",
    "        "
   ]
  },
  {
   "cell_type": "code",
   "execution_count": 4,
   "metadata": {
    "collapsed": false
   },
   "outputs": [],
   "source": [
    "f = open('hash2sum.txt','r')\n",
    "hashTable = [0]*10007\n",
    "li = []\n",
    "for i in f.readlines():\n",
    "    val = int(i.rstrip('\\n'))\n",
    "    li.append(val)\n",
    "    HashMap(val)"
   ]
  },
  {
   "cell_type": "code",
   "execution_count": null,
   "metadata": {
    "collapsed": false
   },
   "outputs": [],
   "source": [
    "count = 0\n",
    "for i in range(-10000, 10001):\n",
    "    for j in li:\n",
    "        b = i - j\n",
    "        if HashSearch(b):\n",
    "            count += 1\n",
    "            print(i, j, b, count)\n",
    "            break\n",
    "print(count)"
   ]
  },
  {
   "cell_type": "code",
   "execution_count": null,
   "metadata": {
    "collapsed": false
   },
   "outputs": [],
   "source": []
  },
  {
   "cell_type": "code",
   "execution_count": null,
   "metadata": {
    "collapsed": false
   },
   "outputs": [],
   "source": [
    "'''\n",
    "Tried to use python's dictionary to see if better performance could be achieved. Then figured out the sheer volume\n",
    "of operation is too much.\n",
    "'''"
   ]
  },
  {
   "cell_type": "code",
   "execution_count": null,
   "metadata": {
    "collapsed": false
   },
   "outputs": [],
   "source": [
    "f = open('hash2sum.txt','r')\n",
    "pyDict = {}\n",
    "for i in f.readlines():\n",
    "    pyDict[int(i[:-2])]=True\n",
    "\n",
    "count = 0\n",
    "for i in range(-10000, 10001):\n",
    "    for j in pyDict:\n",
    "        b = i - j\n",
    "        if b in pyDict:\n",
    "            count += 1\n",
    "            break\n",
    "print(count)"
   ]
  },
  {
   "cell_type": "code",
   "execution_count": null,
   "metadata": {
    "collapsed": false
   },
   "outputs": [],
   "source": []
  },
  {
   "cell_type": "code",
   "execution_count": null,
   "metadata": {
    "collapsed": true
   },
   "outputs": [],
   "source": [
    "'''\n",
    "Got hints from the class forum:\n",
    "That the whole input stream (1mn integers) if sorted, is roughly symmetric around zero (0.5mn negative & 0.5mn positive).\n",
    "And the range of T is also symmetric around 0 (-10000 to +10000), better yet, the whole range is consecutive. \n",
    "Therefore, we could use \"2-pointers\" to contract the calculation volume, by examining the sum of each pairs of negative\n",
    "and positive numbers to see if it falls in the T range. If it does, we know x + y = t exists for that sum t.\n",
    "\n",
    "If what I'm saying here is not clear enough, try looking into the sorted input stream and examine its characteristic.\n",
    "'''"
   ]
  },
  {
   "cell_type": "code",
   "execution_count": 6,
   "metadata": {
    "collapsed": false
   },
   "outputs": [],
   "source": [
    "f = open('hash2sum.txt','r')\n",
    "li  = []\n",
    "for i in f.readlines():\n",
    "    li.append(int(i.rstrip('\\n')))\n",
    "li.sort()\n"
   ]
  },
  {
   "cell_type": "code",
   "execution_count": 7,
   "metadata": {
    "collapsed": false
   },
   "outputs": [],
   "source": [
    "count = {}\n",
    "upper_limit = 999999\n",
    "for i in range(499989):\n",
    "    for j in range(upper_limit, 499989, -1):\n",
    "        t =li[i] + li[j]\n",
    "#         print(t, li[i], li[j])\n",
    "        if t > 10000:\n",
    "            upper_limit -= 1\n",
    "        elif t < -10000:\n",
    "            break\n",
    "        else:\n",
    "            count[t] = 1\n"
   ]
  },
  {
   "cell_type": "code",
   "execution_count": 9,
   "metadata": {
    "collapsed": false
   },
   "outputs": [
    {
     "name": "stdout",
     "output_type": "stream",
     "text": [
      "427\n"
     ]
    }
   ],
   "source": [
    "print(len(count))"
   ]
  },
  {
   "cell_type": "code",
   "execution_count": null,
   "metadata": {
    "collapsed": true
   },
   "outputs": [],
   "source": []
  }
 ],
 "metadata": {
  "kernelspec": {
   "display_name": "Python 3",
   "language": "python",
   "name": "python3"
  },
  "language_info": {
   "codemirror_mode": {
    "name": "ipython",
    "version": 3
   },
   "file_extension": ".py",
   "mimetype": "text/x-python",
   "name": "python",
   "nbconvert_exporter": "python",
   "pygments_lexer": "ipython3",
   "version": "3.4.3"
  }
 },
 "nbformat": 4,
 "nbformat_minor": 0
}
