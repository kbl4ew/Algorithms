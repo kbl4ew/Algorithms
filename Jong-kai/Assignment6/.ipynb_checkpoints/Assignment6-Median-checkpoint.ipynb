{
 "cells": [
  {
   "cell_type": "code",
   "execution_count": null,
   "metadata": {
    "collapsed": false
   },
   "outputs": [],
   "source": [
    "'''The goal of this problem is to implement the \"Median Maintenance\" algorithm (covered in the Week 5 lecture on heap \n",
    "applications). The text file contains a list of the integers from 1 to 10000 in unsorted order; you should treat this \n",
    "as a stream of numbers, arriving one by one. Letting xi denote the ith number of the file, the kth median mk is defined\n",
    "as the median of the numbers x1,…,xk. (So, if k is odd, then mk is ((k+1)/2)th smallest number among x1,…,xk; if k is \n",
    "even, then mk is the (k/2)th smallest number among x1,…,xk.)\n",
    "\n",
    "In the box below you should type the sum of these 10000 medians, modulo 10000 (i.e., only the last 4 digits). That is, \n",
    "you should compute (m1+m2+m3+⋯+m10000)mod10000.\n",
    "\n",
    "OPTIONAL EXERCISE: Compare the performance achieved by heap-based and search-tree-based implementations of the \n",
    "algorithm.'''"
   ]
  },
  {
   "cell_type": "code",
   "execution_count": 1,
   "metadata": {
    "collapsed": false
   },
   "outputs": [],
   "source": [
    "def minHeapInsert(value):\n",
    "    minHeap.append(value)\n",
    "    newPos = len(minHeap)-1\n",
    "    while newPos > 0:\n",
    "        parPos = int((newPos-2)/2) if newPos % 2 == 0 else int((newPos-1)/2)\n",
    "        if minHeap[parPos] > minHeap[newPos]:\n",
    "            minHeap[parPos], minHeap[newPos] = minHeap[newPos], minHeap[parPos]\n",
    "            newPos = parPos\n",
    "        else:\n",
    "            break\n",
    "\n",
    "def maxHeapInsert(value):\n",
    "    maxHeap.append(value)\n",
    "    newPos = len(maxHeap)-1\n",
    "    while newPos > 0:\n",
    "        parPos = int((newPos-2)/2) if newPos % 2 == 0 else int((newPos-1)/2)\n",
    "        if maxHeap[parPos] < maxHeap[newPos]:\n",
    "            maxHeap[parPos], maxHeap[newPos] = maxHeap[newPos], maxHeap[parPos]\n",
    "            newPos = parPos\n",
    "        else:\n",
    "            break\n",
    "    \n",
    "def minHeapDelete():\n",
    "    minHeap[0], minHeap[-1] = minHeap[-1], minHeap[0]\n",
    "    ret = minHeap.pop()\n",
    "    rootPos = 0\n",
    "    while len(minHeap)-1 > rootPos*2+1:\n",
    "        chdPos = rootPos*2+1 if minHeap[rootPos*2+1] < minHeap[rootPos*2+2] else rootPos*2+2\n",
    "        if minHeap[chdPos] < minHeap[rootPos]:\n",
    "            minHeap[chdPos], minHeap[rootPos] = minHeap[rootPos], minHeap[chdPos]\n",
    "            rootPos = chdPos\n",
    "        else:\n",
    "            break\n",
    "    return ret\n",
    "\n",
    "def maxHeapDelete():\n",
    "    maxHeap[0], maxHeap[-1] = maxHeap[-1], maxHeap[0]\n",
    "    ret = maxHeap.pop()\n",
    "    rootPos = 0\n",
    "    while len(maxHeap)-1 > rootPos*2+1:\n",
    "        chdPos = rootPos*2+1 if maxHeap[rootPos*2+1] > maxHeap[rootPos*2+2] else rootPos*2+2\n",
    "        if maxHeap[chdPos] > maxHeap[rootPos]:\n",
    "            maxHeap[chdPos], maxHeap[rootPos] = maxHeap[rootPos], maxHeap[chdPos]\n",
    "            rootPos = chdPos\n",
    "        else:\n",
    "            break\n",
    "    return ret\n",
    "                "
   ]
  },
  {
   "cell_type": "code",
   "execution_count": 21,
   "metadata": {
    "collapsed": false,
    "scrolled": false
   },
   "outputs": [],
   "source": [
    "def medianMaintenance(stream):\n",
    "    if not minHeap or not maxHeap:\n",
    "        minHeapInsert(stream)\n",
    "    elif stream >= minHeap[0]:\n",
    "        minHeapInsert(stream)\n",
    "    elif stream <= maxHeap[0]:\n",
    "        maxHeapInsert(stream)\n",
    "    else:\n",
    "        maxHeapInsert(stream)\n",
    "#     print(minHeap, maxHeap)\n",
    "    while True:\n",
    "        balance = len(minHeap) - len(maxHeap)\n",
    "        if  balance > 1:\n",
    "            maxHeapInsert(minHeapDelete())\n",
    "        elif balance == 1:\n",
    "            return minHeap[0]\n",
    "        elif balance  >= -1:\n",
    "            return maxHeap[0]\n",
    "        elif balance < -1:\n",
    "            minHeapInsert(maxHeapDelete())\n"
   ]
  },
  {
   "cell_type": "code",
   "execution_count": 22,
   "metadata": {
    "collapsed": false
   },
   "outputs": [
    {
     "name": "stdout",
     "output_type": "stream",
     "text": [
      "46831213 1213\n"
     ]
    }
   ],
   "source": [
    "minHeap = []\n",
    "maxHeap = []\n",
    "sum = 0\n",
    "li = []\n",
    "f = open('median.txt', 'r')\n",
    "for i in f.readlines():\n",
    "    li.append(int(i.strip('\\n')))\n",
    "\n",
    "for stream in li:\n",
    "    x = medianMaintenance(stream)\n",
    "#     print(stream, x)\n",
    "    sum += x\n",
    "print(sum, sum%10000)"
   ]
  },
  {
   "cell_type": "code",
   "execution_count": null,
   "metadata": {
    "collapsed": false
   },
   "outputs": [],
   "source": [
    "minHeap = []\n",
    "maxHeap = []\n",
    "for i in [7,5,9,2,3,8,4,6,10,10,10]:\n",
    "    print(medianMaintenance(i))\n",
    "\n",
    "# print(maxHeap)\n",
    "# print(maxHeapDelete())\n",
    "# print(maxHeap)"
   ]
  },
  {
   "cell_type": "code",
   "execution_count": null,
   "metadata": {
    "collapsed": true
   },
   "outputs": [],
   "source": []
  }
 ],
 "metadata": {
  "kernelspec": {
   "display_name": "Python 3",
   "language": "python",
   "name": "python3"
  },
  "language_info": {
   "codemirror_mode": {
    "name": "ipython",
    "version": 3
   },
   "file_extension": ".py",
   "mimetype": "text/x-python",
   "name": "python",
   "nbconvert_exporter": "python",
   "pygments_lexer": "ipython3",
   "version": "3.4.3"
  }
 },
 "nbformat": 4,
 "nbformat_minor": 0
}
