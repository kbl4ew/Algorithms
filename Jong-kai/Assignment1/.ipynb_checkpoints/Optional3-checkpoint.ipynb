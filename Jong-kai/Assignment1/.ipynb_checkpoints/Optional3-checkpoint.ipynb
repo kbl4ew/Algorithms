{
 "cells": [
  {
   "cell_type": "code",
   "execution_count": 2,
   "metadata": {
    "collapsed": false
   },
   "outputs": [
    {
     "data": {
      "text/plain": [
       "'\\nYou are given a sorted (from smallest to largest) array A of n distinct integers which can be positive, negative, \\nor zero. You want to decide whether or not there is an index i such that A[i] = i. Design the fastest algorithm that \\nyou can for solving this problem.\\n'"
      ]
     },
     "execution_count": 2,
     "metadata": {},
     "output_type": "execute_result"
    }
   ],
   "source": [
    "'''\n",
    "You are given a sorted (from smallest to largest) array A of n distinct integers which can be positive, negative, \n",
    "or zero. You want to decide whether or not there is an index i such that A[i] = i. Design the fastest algorithm that \n",
    "you can for solving this problem.\n",
    "'''"
   ]
  },
  {
   "cell_type": "code",
   "execution_count": 3,
   "metadata": {
    "collapsed": true
   },
   "outputs": [],
   "source": [
    "def answer(target):\n",
    "    '''\n",
    "    Similar to optional2, the most obvious solution has O(n) time -- just iterate through the array and check if the \n",
    "    entry's index equals its value. Similarly, to improve it, we need a way to skip some unnecessary checks.\n",
    "    Note that the array is sorted and the values are distinct, so when we cut it into halves, if the left element at\n",
    "    the cutting point has a value smaller than its index, than there's no chance anything smaller than that value (left\n",
    "    to the point) could have a value matching its index. The opposite is true for the right: if the value of the right \n",
    "    element at the cutting point is larger than its index, then all entries to its left could only have values larger\n",
    "    than their indices. So we will only move on when none of these 2 cases happens, and only move to the half that doesn't\n",
    "    have the previous mentioned forbidding case happen.\n",
    "    '''\n",
    "    begin = 0\n",
    "    end = len(target)-1\n",
    "    cut = int((begin + end)/2)\n",
    "    while begin != end: \n",
    "        if target[cut] == cut or target[cut+1] == cut+1:\n",
    "            return True\n",
    "        elif target[cut] < cut and target[cut+1] > cut+1:\n",
    "            return False\n",
    "        elif target[cut] > cut:\n",
    "            end = cut\n",
    "        elif target[cut+1] < cut+1:\n",
    "            begin = cut+1\n",
    "        cut = int((begin + end)/2)\n",
    "    return False"
   ]
  },
  {
   "cell_type": "code",
   "execution_count": 13,
   "metadata": {
    "collapsed": false
   },
   "outputs": [
    {
     "data": {
      "text/plain": [
       "False"
      ]
     },
     "execution_count": 13,
     "metadata": {},
     "output_type": "execute_result"
    }
   ],
   "source": [
    "answer([-1,0,1,2,5,6])"
   ]
  },
  {
   "cell_type": "code",
   "execution_count": null,
   "metadata": {
    "collapsed": true
   },
   "outputs": [],
   "source": []
  }
 ],
 "metadata": {
  "kernelspec": {
   "display_name": "Python 3",
   "language": "python",
   "name": "python3"
  },
  "language_info": {
   "codemirror_mode": {
    "name": "ipython",
    "version": 3
   },
   "file_extension": ".py",
   "mimetype": "text/x-python",
   "name": "python",
   "nbconvert_exporter": "python",
   "pygments_lexer": "ipython3",
   "version": "3.4.3"
  }
 },
 "nbformat": 4,
 "nbformat_minor": 0
}
