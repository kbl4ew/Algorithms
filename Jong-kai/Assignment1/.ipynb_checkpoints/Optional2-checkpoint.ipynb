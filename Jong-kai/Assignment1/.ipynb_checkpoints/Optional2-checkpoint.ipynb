{
 "cells": [
  {
   "cell_type": "code",
   "execution_count": 1,
   "metadata": {
    "collapsed": false
   },
   "outputs": [
    {
     "data": {
      "text/plain": [
       "'\\nYou are a given a unimodal array of n distinct elements, meaning that its entries are in increasing order up until its \\nmaximum element, after which its elements are in decreasing order. Give an algorithm to compute the maximum element that\\nruns in O(log n) time.\\n'"
      ]
     },
     "execution_count": 1,
     "metadata": {},
     "output_type": "execute_result"
    }
   ],
   "source": [
    "'''\n",
    "You are a given a unimodal array of n distinct elements, meaning that its entries are in increasing order up until its \n",
    "maximum element, after which its elements are in decreasing order. Give an algorithm to compute the maximum element that\n",
    "runs in O(log n) time.\n",
    "'''"
   ]
  },
  {
   "cell_type": "code",
   "execution_count": 4,
   "metadata": {
    "collapsed": true
   },
   "outputs": [],
   "source": [
    "def answer(target):\n",
    "    '''\n",
    "    To do this in O(log n) time, we must use technique like binary searching.\n",
    "    So we cut the target array into halves, and compare the two element at both sides of the cutting edge,\n",
    "    if the right is bigger, we know that the peak is in the right half; if the left is bigger, than the peak\n",
    "    is in the left half.\n",
    "    We will continue cutting until there's only 1 element left in the target array.\n",
    "    '''\n",
    "    while len(target) > 1:\n",
    "        n = int(len(target)/2)\n",
    "        if target[n-1] < target[n]:\n",
    "            target = target[n:]\n",
    "        else:\n",
    "            target = target[:n]\n",
    "    return target"
   ]
  },
  {
   "cell_type": "code",
   "execution_count": 5,
   "metadata": {
    "collapsed": false
   },
   "outputs": [
    {
     "data": {
      "text/plain": [
       "[5]"
      ]
     },
     "execution_count": 5,
     "metadata": {},
     "output_type": "execute_result"
    }
   ],
   "source": [
    "# testCase = [2,3,4,6,9]\n",
    "# testCase = [2,3,4,9,6]\n",
    "# testCase = [9,6,5,4,3]\n",
    "testCase = [2,3,5,4,1]\n",
    "answer(testCase)"
   ]
  },
  {
   "cell_type": "code",
   "execution_count": null,
   "metadata": {
    "collapsed": true
   },
   "outputs": [],
   "source": []
  }
 ],
 "metadata": {
  "kernelspec": {
   "display_name": "Python 3",
   "language": "python",
   "name": "python3"
  },
  "language_info": {
   "codemirror_mode": {
    "name": "ipython",
    "version": 3
   },
   "file_extension": ".py",
   "mimetype": "text/x-python",
   "name": "python",
   "nbconvert_exporter": "python",
   "pygments_lexer": "ipython3",
   "version": "3.4.3"
  }
 },
 "nbformat": 4,
 "nbformat_minor": 0
}
