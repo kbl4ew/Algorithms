{
 "cells": [
  {
   "cell_type": "code",
   "execution_count": 26,
   "metadata": {
    "collapsed": false
   },
   "outputs": [],
   "source": [
    "import numpy as np\n",
    "target = list(np.loadtxt('IntegerArray.txt'))\n",
    "\n",
    "def answer(target):\n",
    "    def Merge(left, right, count):\n",
    "        sort = []\n",
    "        while left and right:\n",
    "            if left[0] <= right[0]:\n",
    "                sort.append(left.pop(0))\n",
    "            else:\n",
    "                sort.append(right.pop(0))\n",
    "                if len(left) > 0:\n",
    "                    count += len(left)\n",
    "        sort += left + right\n",
    "        return sort, count\n",
    "\n",
    "    def CountInversion(target, count):\n",
    "        k = len(target)\n",
    "        n = int(k/2)\n",
    "        m = k - n\n",
    "        if n > 1:\n",
    "            left, count = CountInversion(target[:n], count)\n",
    "        else:\n",
    "            left = target[:n]\n",
    "        if m > 1:\n",
    "            right, count = CountInversion(target[n:], count)\n",
    "        else:\n",
    "            right = target[n:]\n",
    "        return Merge(left, right, count)\n",
    "\n",
    "    count = 0\n",
    "    return CountInversion(target, count)[1]\n",
    "\n"
   ]
  },
  {
   "cell_type": "code",
   "execution_count": 31,
   "metadata": {
    "collapsed": false
   },
   "outputs": [
    {
     "name": "stdout",
     "output_type": "stream",
     "text": [
      "2407905288\n"
     ]
    }
   ],
   "source": [
    "# testCase = [1,3,5,2,4,6,7]\n",
    "# print(answer(testCase))\n",
    "# testCase = [1,7,3,8,5,2,9]\n",
    "testCase = target\n",
    "# print(testCase)\n",
    "print(answer(testCase))\n"
   ]
  },
  {
   "cell_type": "code",
   "execution_count": 2,
   "metadata": {
    "collapsed": false
   },
   "outputs": [],
   "source": [
    "testCase = [1,3,2]"
   ]
  },
  {
   "cell_type": "code",
   "execution_count": null,
   "metadata": {
    "collapsed": false
   },
   "outputs": [],
   "source": []
  },
  {
   "cell_type": "code",
   "execution_count": null,
   "metadata": {
    "collapsed": true
   },
   "outputs": [],
   "source": []
  }
 ],
 "metadata": {
  "kernelspec": {
   "display_name": "Python 3",
   "language": "python",
   "name": "python3"
  },
  "language_info": {
   "codemirror_mode": {
    "name": "ipython",
    "version": 3
   },
   "file_extension": ".py",
   "mimetype": "text/x-python",
   "name": "python",
   "nbconvert_exporter": "python",
   "pygments_lexer": "ipython3",
   "version": "3.4.3"
  }
 },
 "nbformat": 4,
 "nbformat_minor": 0
}
