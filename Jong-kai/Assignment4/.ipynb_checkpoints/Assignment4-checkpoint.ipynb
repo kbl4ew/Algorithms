{
 "cells": [
  {
   "cell_type": "code",
   "execution_count": null,
   "metadata": {
    "collapsed": true
   },
   "outputs": [],
   "source": [
    "'''The file contains the edges of a directed graph. Vertices are labeled as positive integers from 1 to 875714. \n",
    "Every row indicates an edge, the vertex label in first column is the tail and the vertex label in second column \n",
    "is the head (recall the graph is directed, and the edges are directed from the first column vertex to the second \n",
    "column vertex). So for example, the 11th row looks liks : \"2 47646\". This just means that the vertex with label 2 \n",
    "has an outgoing edge to the vertex with label 47646\n",
    "\n",
    "Your task is to code up the algorithm from the video lectures for computing strongly connected components (SCCs),\n",
    "and to run this algorithm on the given graph.\n",
    "\n",
    "Output Format: You should output the sizes of the 5 largest SCCs in the given graph, in decreasing order of sizes, \n",
    "separated by commas (avoid any spaces). So if your algorithm computes the sizes of the five largest SCCs to be 500, \n",
    "400, 300, 200 and 100, then your answer should be \"500,400,300,200,100\" (without the quotes). If your algorithm finds \n",
    "less than 5 SCCs, then write 0 for the remaining terms. Thus, if your algorithm computes only 3 SCCs whose sizes are \n",
    "400, 300, and 100, then your answer should be \"400,300,100,0,0\" (without the quotes). (Note also that your answer \n",
    "should not have any spaces in it.)\n",
    "\n",
    "WARNING: This is the most challenging programming assignment of the course. Because of the size of the graph you \n",
    "may have to manage memory carefully. The best way to do this depends on your programming language and environment, \n",
    "and we strongly suggest that you exchange tips for doing this on the discussion forums.'''"
   ]
  },
  {
   "cell_type": "code",
   "execution_count": 1,
   "metadata": {
    "collapsed": true
   },
   "outputs": [],
   "source": [
    "from collections import defaultdict"
   ]
  },
  {
   "cell_type": "code",
   "execution_count": null,
   "metadata": {
    "collapsed": false
   },
   "outputs": [],
   "source": [
    "f = open('SCC.txt', 'r')\n",
    "targetRev = defaultdict(list)\n",
    "target = defaultdict(list)\n",
    "for i in f.readlines():\n",
    "    tail, head = i.split()\n",
    "    targetRev[head].append(tail)\n",
    "    target[tail].append(head)\n",
    "    # Storing head as key and tail as value essentially reverse the graph.\n",
    "    \n",
    "f.close()"
   ]
  },
  {
   "cell_type": "code",
   "execution_count": null,
   "metadata": {
    "collapsed": false
   },
   "outputs": [],
   "source": [
    "graph = defaultdict(list)\n",
    "graph[1] = [3,7]\n",
    "graph[2] = [8]\n",
    "graph[3] = [6]\n",
    "graph[4] = [7]\n",
    "graph[5] = [2]\n",
    "graph[6] = [1]\n",
    "graph[7] = [9]\n",
    "graph[8] = [5,6]\n",
    "graph[9] = [4]\n",
    "graphRev = defaultdict(list)\n",
    "graphRev[1] = [6]\n",
    "graphRev[2] = [5]\n",
    "graphRev[3] = [1]\n",
    "graphRev[4] = [9]\n",
    "graphRev[5] = [8]\n",
    "graphRev[6] = [3,8]\n",
    "graphRev[7] = [1,4]\n",
    "graphRev[8] = [2]\n",
    "graphRev[9] = [7]"
   ]
  },
  {
   "cell_type": "code",
   "execution_count": null,
   "metadata": {
    "collapsed": false
   },
   "outputs": [],
   "source": [
    "graph = defaultdict(list)\n",
    "graph[1] = [3]\n",
    "graph[2] = [8]\n",
    "graph[3] = [5,6]\n",
    "graph[4] = [2]\n",
    "graph[5] = [7,8]\n",
    "graph[7] = [3]\n",
    "graph[8] = [1,4]\n",
    "graphRev = defaultdict(list)\n",
    "graphRev[1] = [8]\n",
    "graphRev[2] = [4]\n",
    "graphRev[3] = [1,7]\n",
    "graphRev[4] = [8]\n",
    "graphRev[5] = [3]\n",
    "graphRev[6] = [3]\n",
    "graphRev[7] = [5]\n",
    "graphRev[8] = [2,5]"
   ]
  },
  {
   "cell_type": "code",
   "execution_count": 18,
   "metadata": {
    "collapsed": false
   },
   "outputs": [
    {
     "name": "stdout",
     "output_type": "stream",
     "text": [
      "defaultdict(<class 'list'>, {1: [2], 2: [3, 4, 5], 3: [6], 4: [5, 7], 5: [2, 6, 7], 6: [3, 8], 7: [8, 10], 8: [7], 9: [7], 10: [9, 11], 11: [12], 12: [10]})\n",
      "defaultdict(<class 'list'>, {2: [1, 5], 3: [2, 6], 4: [2], 5: [2, 4], 6: [3, 5], 7: [4, 5, 8, 9], 8: [6, 7], 9: [10], 10: [7, 12], 11: [10], 12: [11]})\n"
     ]
    }
   ],
   "source": [
    "ex = ['1 2','2 3','2 4','2 5', '3 6','4 5','4 7','5 2','5 6','5 7','6 3','6 8','7 8','7 10','8 7','9 7','10 9','10 11','11 12','12 10']\n",
    "targetRev = defaultdict(list)\n",
    "target = defaultdict(list)\n",
    "for i in ex:\n",
    "    tail, head = i.split()\n",
    "    targetRev[int(head)].append(int(tail))\n",
    "    target[int(tail)].append(int(head))\n",
    "print(target)\n",
    "print(targetRev)"
   ]
  },
  {
   "cell_type": "code",
   "execution_count": 17,
   "metadata": {
    "collapsed": false
   },
   "outputs": [],
   "source": [
    "def OrderMapping(graphDict):\n",
    "    discovered = []\n",
    "    branchOutArcStack = []\n",
    "    waitForOrderStack = []\n",
    "\n",
    "    orderMap = {}\n",
    "    nodeMap = {}\n",
    "\n",
    "    order = 1\n",
    "    keys = list(graphDict.keys())\n",
    "    keys.reverse()\n",
    "\n",
    "    for start in keys:\n",
    "        # Starting DFS on i\n",
    "        print('start = '+ str(start))\n",
    "        while start not in discovered:\n",
    "            discovered.append(start)\n",
    "            waitForOrderStack.append(start)\n",
    "            \n",
    "            # 'discovered' stores whether a node has ever been touched, while 'waitForOrderStack' stores whether\n",
    "            # a nodes has its new order determined.\n",
    "            \n",
    "            check = len(branchOutArcStack)\n",
    "            \n",
    "            # 'check' is just storing the length of the 'branchOutArcStack', so we can later check whether a node\n",
    "            # has all its arcs considered.\n",
    "            print(waitForOrderStack)\n",
    "            print(check)\n",
    "            for new in graphDict[start]:\n",
    "                if new not in discovered:\n",
    "                    branchOutArcStack.append((start, new))\n",
    "                    \n",
    "                    # 'new' iterates through all heads that have tail from the node 'start'. \n",
    "                    #\n",
    "                    # We only stores nodes that have never been discovered, because for a tail node, it should get\n",
    "                    # its new order when none of its outgoing arcs discover new information of the graph.\n",
    "                    #\n",
    "                    # It is important that branchOutArcStack stores both tail and head of an arc, so we don't\n",
    "                    # lose track of which tail the arc belongs to.\n",
    "                    print(branchOutArcStack)\n",
    "            if len(branchOutArcStack) == check:\n",
    "\n",
    "                # When there's no increase in the length of 'branchOutArcStack', we know the tail node is fully \n",
    "                # examined, and should now get its new order\n",
    "\n",
    "                while (waitForOrderStack[-1] != branchOutArcStack[-1][0]) if len(branchOutArcStack)>0 \\\n",
    "                    else len(waitForOrderStack) >0:\n",
    "                    \n",
    "                    # There are actually 2 situations where nodes should get their new orders: \n",
    "                    # 1. When the 'branchOutArcStack' is not empty, this means there are other branches not yet\n",
    "                    #    examined of earlier nodes. Then we only assign order to nodes whose arcs are all discovered. \n",
    "                    # 2. When the 'branchOutArcStack' is empty, then all nodes not yet given orders should receive\n",
    "                    #    a new order.\n",
    "                    \n",
    "                    node = waitForOrderStack.pop()\n",
    "                    print(\"new order\" + str(order) + \" given to: \"+ str(node))\n",
    "                    orderMap[order] = node\n",
    "                    nodeMap[node] = order\n",
    "                    order += 1\n",
    "                    \n",
    "                    # Storing the order-node mapping into 2 dictionaries:\n",
    "                    # 1. orderMap has keys of new order and values of nodes\n",
    "                    # 2. nodeMap the opposite\n",
    "                    \n",
    "            if len(branchOutArcStack)>0:\n",
    "                start = branchOutArcStack.pop()[1]\n",
    "            else:\n",
    "                break\n",
    "                \n",
    "                # The key idea of DFS: always examine first the latest added arc. If there's no more arc in the stack,\n",
    "                # then the region is fully explored. Break out of the current while loop and continue the top forloop.\n",
    "    print(orderMap)\n",
    "    print(nodeMap)\n",
    "\n",
    "    return orderMap, nodeMap"
   ]
  },
  {
   "cell_type": "code",
   "execution_count": 4,
   "metadata": {
    "collapsed": false
   },
   "outputs": [],
   "source": [
    "def SCCsCounting(graph, orderMap, nodeMap):\n",
    "    discovered = []\n",
    "    branchOutArcStack = []\n",
    "    SCCCounts = []\n",
    "    \n",
    "    keys = list(orderMap.keys())\n",
    "    keys.reverse()\n",
    "    \n",
    "    for leader in keys:\n",
    "        count = 0\n",
    "        while leader not in discovered:\n",
    "            discovered.append(leader)\n",
    "            count += 1\n",
    "            check = len(branchOutArcStack)\n",
    "            for new in graph[orderMap[leader]]:\n",
    "                if nodeMap[new] not in discovered:\n",
    "                    branchOutArcStack.append(nodeMap[new])\n",
    "            if len(branchOutArcStack) == check == 0:\n",
    "                SCCCounts.append(count)\n",
    "                break\n",
    "            leader = branchOutArcStack.pop()\n",
    "    return SCCCounts        \n"
   ]
  },
  {
   "cell_type": "code",
   "execution_count": 19,
   "metadata": {
    "collapsed": false
   },
   "outputs": [
    {
     "name": "stdout",
     "output_type": "stream",
     "text": [
      "start = 12\n",
      "[12]\n",
      "0\n",
      "[(12, 11)]\n",
      "start = 11\n",
      "[12, 11]\n",
      "0\n",
      "[(11, 10)]\n",
      "start = 10\n",
      "[12, 11, 10]\n",
      "0\n",
      "[(10, 7)]\n",
      "start = 7\n",
      "[12, 11, 10, 7]\n",
      "0\n",
      "[(7, 4)]\n",
      "[(7, 4), (7, 5)]\n",
      "[(7, 4), (7, 5), (7, 8)]\n",
      "[(7, 4), (7, 5), (7, 8), (7, 9)]\n",
      "start = 9\n",
      "[12, 11, 10, 7, 9]\n",
      "3\n",
      "new order1 given to: 9\n",
      "start = 8\n",
      "[12, 11, 10, 7, 8]\n",
      "2\n",
      "[(7, 4), (7, 5), (8, 6)]\n",
      "start = 6\n",
      "[12, 11, 10, 7, 8, 6]\n",
      "2\n",
      "[(7, 4), (7, 5), (6, 3)]\n",
      "[(7, 4), (7, 5), (6, 3), (6, 5)]\n",
      "start = 5\n",
      "[12, 11, 10, 7, 8, 6, 5]\n",
      "3\n",
      "[(7, 4), (7, 5), (6, 3), (5, 2)]\n",
      "[(7, 4), (7, 5), (6, 3), (5, 2), (5, 4)]\n",
      "start = 4\n",
      "[12, 11, 10, 7, 8, 6, 5, 4]\n",
      "4\n",
      "[(7, 4), (7, 5), (6, 3), (5, 2), (4, 2)]\n",
      "start = 2\n",
      "[12, 11, 10, 7, 8, 6, 5, 4, 2]\n",
      "4\n",
      "[(7, 4), (7, 5), (6, 3), (5, 2), (2, 1)]\n",
      "start = 1\n",
      "[12, 11, 10, 7, 8, 6, 5, 4, 2, 1]\n",
      "4\n",
      "new order2 given to: 1\n",
      "new order3 given to: 2\n",
      "new order4 given to: 4\n",
      "start = 3\n",
      "[12, 11, 10, 7, 8, 6, 5, 3]\n",
      "3\n",
      "new order5 given to: 3\n",
      "new order6 given to: 5\n",
      "{1: 9, 2: 1, 3: 2, 4: 4, 5: 3, 6: 5}\n",
      "{1: 2, 2: 3, 3: 5, 4: 4, 5: 6, 9: 1}\n"
     ]
    },
    {
     "ename": "KeyError",
     "evalue": "6",
     "output_type": "error",
     "traceback": [
      "\u001b[0;31m---------------------------------------------------------------------------\u001b[0m",
      "\u001b[0;31mKeyError\u001b[0m                                  Traceback (most recent call last)",
      "\u001b[0;32m<ipython-input-19-0a3f3742f765>\u001b[0m in \u001b[0;36m<module>\u001b[0;34m()\u001b[0m\n\u001b[1;32m      1\u001b[0m \u001b[0morderMap\u001b[0m\u001b[0;34m,\u001b[0m \u001b[0mnodeMap\u001b[0m \u001b[0;34m=\u001b[0m \u001b[0mOrderMapping\u001b[0m\u001b[0;34m(\u001b[0m\u001b[0mtargetRev\u001b[0m\u001b[0;34m)\u001b[0m\u001b[0;34m\u001b[0m\u001b[0m\n\u001b[0;32m----> 2\u001b[0;31m \u001b[0manswer\u001b[0m \u001b[0;34m=\u001b[0m \u001b[0mSCCsCounting\u001b[0m\u001b[0;34m(\u001b[0m\u001b[0mtarget\u001b[0m\u001b[0;34m,\u001b[0m \u001b[0morderMap\u001b[0m\u001b[0;34m,\u001b[0m \u001b[0mnodeMap\u001b[0m\u001b[0;34m)\u001b[0m\u001b[0;34m\u001b[0m\u001b[0m\n\u001b[0m\u001b[1;32m      3\u001b[0m \u001b[0mprint\u001b[0m\u001b[0;34m(\u001b[0m\u001b[0manswer\u001b[0m\u001b[0;34m)\u001b[0m\u001b[0;34m\u001b[0m\u001b[0m\n",
      "\u001b[0;32m<ipython-input-4-6d6703e9857d>\u001b[0m in \u001b[0;36mSCCsCounting\u001b[0;34m(graph, orderMap, nodeMap)\u001b[0m\n\u001b[1;32m     14\u001b[0m             \u001b[0mcheck\u001b[0m \u001b[0;34m=\u001b[0m \u001b[0mlen\u001b[0m\u001b[0;34m(\u001b[0m\u001b[0mbranchOutArcStack\u001b[0m\u001b[0;34m)\u001b[0m\u001b[0;34m\u001b[0m\u001b[0m\n\u001b[1;32m     15\u001b[0m             \u001b[0;32mfor\u001b[0m \u001b[0mnew\u001b[0m \u001b[0;32min\u001b[0m \u001b[0mgraph\u001b[0m\u001b[0;34m[\u001b[0m\u001b[0morderMap\u001b[0m\u001b[0;34m[\u001b[0m\u001b[0mleader\u001b[0m\u001b[0;34m]\u001b[0m\u001b[0;34m]\u001b[0m\u001b[0;34m:\u001b[0m\u001b[0;34m\u001b[0m\u001b[0m\n\u001b[0;32m---> 16\u001b[0;31m                 \u001b[0;32mif\u001b[0m \u001b[0mnodeMap\u001b[0m\u001b[0;34m[\u001b[0m\u001b[0mnew\u001b[0m\u001b[0;34m]\u001b[0m \u001b[0;32mnot\u001b[0m \u001b[0;32min\u001b[0m \u001b[0mdiscovered\u001b[0m\u001b[0;34m:\u001b[0m\u001b[0;34m\u001b[0m\u001b[0m\n\u001b[0m\u001b[1;32m     17\u001b[0m                     \u001b[0mbranchOutArcStack\u001b[0m\u001b[0;34m.\u001b[0m\u001b[0mappend\u001b[0m\u001b[0;34m(\u001b[0m\u001b[0mnodeMap\u001b[0m\u001b[0;34m[\u001b[0m\u001b[0mnew\u001b[0m\u001b[0;34m]\u001b[0m\u001b[0;34m)\u001b[0m\u001b[0;34m\u001b[0m\u001b[0m\n\u001b[1;32m     18\u001b[0m             \u001b[0;32mif\u001b[0m \u001b[0mlen\u001b[0m\u001b[0;34m(\u001b[0m\u001b[0mbranchOutArcStack\u001b[0m\u001b[0;34m)\u001b[0m \u001b[0;34m==\u001b[0m \u001b[0mcheck\u001b[0m \u001b[0;34m==\u001b[0m \u001b[0;36m0\u001b[0m\u001b[0;34m:\u001b[0m\u001b[0;34m\u001b[0m\u001b[0m\n",
      "\u001b[0;31mKeyError\u001b[0m: 6"
     ]
    }
   ],
   "source": [
    "orderMap, nodeMap = OrderMapping(targetRev)\n",
    "answer = SCCsCounting(target, orderMap, nodeMap)\n",
    "print(answer)"
   ]
  },
  {
   "cell_type": "code",
   "execution_count": null,
   "metadata": {
    "collapsed": false
   },
   "outputs": [],
   "source": []
  },
  {
   "cell_type": "code",
   "execution_count": null,
   "metadata": {
    "collapsed": true
   },
   "outputs": [],
   "source": []
  }
 ],
 "metadata": {
  "kernelspec": {
   "display_name": "Python 3",
   "language": "python",
   "name": "python3"
  },
  "language_info": {
   "codemirror_mode": {
    "name": "ipython",
    "version": 3
   },
   "file_extension": ".py",
   "mimetype": "text/x-python",
   "name": "python",
   "nbconvert_exporter": "python",
   "pygments_lexer": "ipython3",
   "version": "3.4.3"
  }
 },
 "nbformat": 4,
 "nbformat_minor": 0
}
