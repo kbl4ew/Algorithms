{
 "cells": [
  {
   "cell_type": "code",
   "execution_count": null,
   "metadata": {
    "collapsed": false
   },
   "outputs": [],
   "source": [
    "'''\n",
    "The file contains all of the integers between 1 and 10,000 (inclusive, with no repeats) in unsorted order. \n",
    "The integer in the ith row of the file gives you the ith entry of an input array.\n",
    "\n",
    "Your task is to compute the total number of comparisons used to sort the given input file by QuickSort. \n",
    "As you know, the number of comparisons depends on which elements are chosen as pivots, so we'll ask you to explore\n",
    "three different pivoting rules. You should not count comparisons one-by-one. Rather, when there is a recursive call\n",
    "on a subarray of length m, you should simply add m−1 to your running total of comparisons. (This is because the pivot\n",
    "element is compared to each of the other m−1 elements in the subarray in this recursive call.)\n",
    "\n",
    "WARNING:\n",
    "The Partition subroutine can be implemented in several different ways, and different implementations can give you \n",
    "differing numbers of comparisons. For this problem, you should implement the Partition subroutine exactly as it is \n",
    "described in the video lectures (otherwise you might get the wrong answer).\n",
    "\n",
    "DIRECTIONS FOR THIS PROBLEM:\n",
    "For the first part of the programming assignment, you should always use the first element of the array as the pivot element.\n",
    "'''\n"
   ]
  },
  {
   "cell_type": "code",
   "execution_count": 1,
   "metadata": {
    "collapsed": false
   },
   "outputs": [],
   "source": [
    "from numpy import loadtxt"
   ]
  },
  {
   "cell_type": "code",
   "execution_count": 2,
   "metadata": {
    "collapsed": true
   },
   "outputs": [],
   "source": [
    "def answer1(target, count=0):\n",
    "    count += len(target) - 1\n",
    "    a = b = 1\n",
    "    pivot = target[0]\n",
    "    for i in range(1,len(target)):\n",
    "        if target[b] > pivot:\n",
    "            b += 1\n",
    "        else:\n",
    "            if a == 1 and b == 1:\n",
    "                b += 1\n",
    "                a += 1\n",
    "            else:\n",
    "                target[a], target[b] = target[b], target[a]\n",
    "                b += 1\n",
    "                a += 1\n",
    "    target[0], target[a-1] = target[a-1], target[0]\n",
    "#     print(count)\n",
    "#     print(a, b)\n",
    "#     print(target[:a-1], target[a:])\n",
    "    if len(target[:a-1]) > 1:\n",
    "        count, target[:a-1] = answer1(target[:a-1], count)\n",
    "    if len(target[a:]) > 1:\n",
    "        count, target[a:] = answer1(target[a:], count)\n",
    "#     print(count, target)\n",
    "    return count, target\n",
    "\n"
   ]
  },
  {
   "cell_type": "code",
   "execution_count": 3,
   "metadata": {
    "collapsed": true
   },
   "outputs": [],
   "source": [
    "'''\n",
    "2. Compute the number of comparisons (as in Problem 1), always using the final element of the given array as the pivot \n",
    "element. Again, be sure to implement the Partition subroutine exactly as it is described in the video lectures.\n",
    "Recall from the lectures that, just before the main Partition subroutine, you should exchange the pivot element \n",
    "(i.e., the last element) with the first element.\n",
    "'''\n",
    "\n",
    "def answer2(target, count=0):\n",
    "    count += len(target) - 1\n",
    "    a = b = 1\n",
    "    pivot = target[-1]\n",
    "    target[0], target[-1] = target[-1], target[0]\n",
    "    for i in range(1,len(target)):\n",
    "        if target[b] > pivot:\n",
    "            b += 1\n",
    "        else:\n",
    "            if a == 1 and b == 1:\n",
    "                b += 1\n",
    "                a += 1\n",
    "            else:\n",
    "                target[a], target[b] = target[b], target[a]\n",
    "                b += 1\n",
    "                a += 1\n",
    "    target[0], target[a-1] = target[a-1], target[0]\n",
    "#     print(count)\n",
    "#     print(a, b)\n",
    "#     print(target[:a-1], target[a:])\n",
    "    if len(target[:a-1]) > 1:\n",
    "        count, target[:a-1] = answer2(target[:a-1], count)\n",
    "    if len(target[a:]) > 1:\n",
    "        count, target[a:] = answer2(target[a:], count)\n",
    "#     print(count, target)\n",
    "    return count, target\n",
    "\n"
   ]
  },
  {
   "cell_type": "code",
   "execution_count": 4,
   "metadata": {
    "collapsed": true
   },
   "outputs": [],
   "source": [
    "'''\n",
    "Compute the number of comparisons (as in Problem 1), using the \"median-of-three\" pivot rule. [The primary motivation \n",
    "behind this rule is to do a little bit of extra work to get much better performance on input arrays that are nearly \n",
    "sorted or reverse sorted.] In more detail, you should choose the pivot as follows. Consider the first, middle, and \n",
    "final elements of the given array. (If the array has odd length it should be clear what the \"middle\" element is; \n",
    "for an array with even length 2k, use the kth element as the \"middle\" element. So for the array 4 5 6 7, the \"middle\" \n",
    "element is the second one ---- 5 and not 6!) Identify which of these three elements is the median (i.e., the one whose\n",
    "value is in between the other two), and use this as your pivot. As discussed in the first and second parts of this \n",
    "programming assignment, be sure to implement Partition exactly as described in the video lectures (including exchanging\n",
    "the pivot element with the first element just before the main Partition subroutine).\n",
    "\n",
    "EXAMPLE: For the input array 8 2 4 5 7 1 you would consider the first (8), middle (4), and last (1) elements; \n",
    "since 4 is the median of the set {1,4,8}, you would use 4 as your pivot element.\n",
    "\n",
    "SUBTLE POINT: A careful analysis would keep track of the comparisons made in identifying the median of the three \n",
    "candidate elements. You should NOT do this. That is, as in the previous two problems, you should simply add m−1 \n",
    "to your running total of comparisons every time you recurse on a subarray with length m.\n",
    "'''\n",
    "def answer3(target, count=0):\n",
    "    count += len(target) - 1\n",
    "    a = b = 1\n",
    "    pivot = sorted([target[0], target[-1], target[int((len(target)-1)/2)]])[1]\n",
    "    pivot_index = target.index(pivot)\n",
    "    target[0], target[pivot_index] = target[pivot_index], target[0]\n",
    "    for i in range(1,len(target)):\n",
    "        if target[b] > pivot:\n",
    "            b += 1\n",
    "        else:\n",
    "            if a == 1 and b == 1:\n",
    "                b += 1\n",
    "                a += 1\n",
    "            else:\n",
    "                target[a], target[b] = target[b], target[a]\n",
    "                b += 1\n",
    "                a += 1\n",
    "    target[0], target[a-1] = target[a-1], target[0]\n",
    "#     print(count)\n",
    "#     print(a, b)\n",
    "#     print(target[:a-1], target[a:])\n",
    "    if len(target[:a-1]) > 1:\n",
    "        count, target[:a-1] = answer3(target[:a-1], count)\n",
    "    if len(target[a:]) > 1:\n",
    "        count, target[a:] = answer3(target[a:], count)\n",
    "#     print(count, target)\n",
    "    return count, target"
   ]
  },
  {
   "cell_type": "code",
   "execution_count": 5,
   "metadata": {
    "collapsed": false
   },
   "outputs": [
    {
     "data": {
      "text/plain": [
       "(15, [1, 2, 3, 4, 5, 6, 7, 8])"
      ]
     },
     "execution_count": 5,
     "metadata": {},
     "output_type": "execute_result"
    }
   ],
   "source": [
    "testCase = [4,8,1,6,5,3,2,7]\n",
    "# testCase = [4,1,2,6,5,3,8,7]\n",
    "# testCase = [8,1,4,6,5,3,2,7]\n",
    "# print(answer(testCase))\n",
    "answer1(testCase)"
   ]
  },
  {
   "cell_type": "code",
   "execution_count": 6,
   "metadata": {
    "collapsed": false
   },
   "outputs": [
    {
     "data": {
      "text/plain": [
       "[2, 4, 6]"
      ]
     },
     "execution_count": 6,
     "metadata": {},
     "output_type": "execute_result"
    }
   ],
   "source": [
    "target = [4,8,1,6,5,3,2]\n",
    "pivot = sorted([target[0], target[-1], target[int((len(target)-1)/2)]])\n",
    "pivot"
   ]
  },
  {
   "cell_type": "code",
   "execution_count": 7,
   "metadata": {
    "collapsed": false
   },
   "outputs": [
    {
     "name": "stdout",
     "output_type": "stream",
     "text": [
      "162085\n"
     ]
    }
   ],
   "source": [
    "integerArray = list(loadtxt(\"IntegerArray_Quicksort.txt\"))\n",
    "print(answer1(integerArray)[0])"
   ]
  },
  {
   "cell_type": "code",
   "execution_count": 8,
   "metadata": {
    "collapsed": false
   },
   "outputs": [
    {
     "name": "stdout",
     "output_type": "stream",
     "text": [
      "164123\n"
     ]
    }
   ],
   "source": [
    "integerArray = list(loadtxt(\"IntegerArray_Quicksort.txt\"))\n",
    "print(answer2(integerArray)[0])"
   ]
  },
  {
   "cell_type": "code",
   "execution_count": 9,
   "metadata": {
    "collapsed": false
   },
   "outputs": [
    {
     "name": "stdout",
     "output_type": "stream",
     "text": [
      "138382\n"
     ]
    }
   ],
   "source": [
    "integerArray = list(loadtxt(\"IntegerArray_Quicksort.txt\"))\n",
    "print(answer3(integerArray)[0])"
   ]
  },
  {
   "cell_type": "code",
   "execution_count": null,
   "metadata": {
    "collapsed": true
   },
   "outputs": [],
   "source": []
  }
 ],
 "metadata": {
  "kernelspec": {
   "display_name": "Python 3",
   "language": "python",
   "name": "python3"
  },
  "language_info": {
   "codemirror_mode": {
    "name": "ipython",
    "version": 3
   },
   "file_extension": ".py",
   "mimetype": "text/x-python",
   "name": "python",
   "nbconvert_exporter": "python",
   "pygments_lexer": "ipython3",
   "version": "3.5.1"
  }
 },
 "nbformat": 4,
 "nbformat_minor": 0
}
